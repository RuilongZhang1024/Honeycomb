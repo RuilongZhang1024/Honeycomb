{
  "cells": [
    {
      "cell_type": "markdown",
      "metadata": {
        "id": "TfdMdleOyaDL"
      },
      "source": [
        "If you are using Google Colab, you can use the cell below to download and unzip the data.\n",
        "If you are running on your computer, you will need to do this yourself."
      ]
    },
    {
      "cell_type": "code",
      "execution_count": null,
      "metadata": {
        "id": "Fe9iBGinJ72k"
      },
      "outputs": [],
      "source": [
        "# COMP534_assignment2\n",
        "!wget http://weegee.vision.ucmerced.edu/datasets/UCMerced_LandUse.zip\n",
        "!unzip UCMerced_LandUse.zip"
      ]
    },
    {
      "cell_type": "markdown",
      "metadata": {
        "id": "A1BD2T8fyfs2"
      },
      "source": [
        "Use this first cell to import the necessary libraries."
      ]
    },
    {
      "cell_type": "code",
      "execution_count": 29,
      "metadata": {
        "id": "uR1t3wgyKBf_"
      },
      "outputs": [],
      "source": [
        "# Import library\n",
        "import torch\n",
        "import torchvision\n",
        "from torch.utils.data import Dataset, DataLoader, Subset\n",
        "from torchvision import transforms, datasets\n",
        "from sklearn.model_selection import KFold\n",
        "import numpy as np\n",
        "from PIL import Image\n",
        "import os\n",
        "import matplotlib.pyplot as plt\n",
        "import torch.nn as nn\n",
        "import torch.nn.functional as F\n",
        "import timm\n",
        "from torch.optim import AdamW\n",
        "from torch.optim.lr_scheduler import CosineAnnealingWarmRestarts, ReduceLROnPlateau\n",
        "import datetime\n",
        "from torch.cuda.amp import GradScaler, autocast\n",
        "from tqdm import tqdm\n",
        "from torch import amp\n",
        "from sklearn.metrics import confusion_matrix, precision_score, recall_score, f1_score\n",
        "import seaborn as sns"
      ]
    },
    {
      "cell_type": "markdown",
      "metadata": {
        "id": "_ooVPGuwyl3I"
      },
      "source": [
        "# 1. **Data Management**\n",
        "\n",
        "\n",
        "1.  define your experimental protocol (such as k-fold, cross validation, etc)\n",
        "2.\tcreate the dataloader to load the data; remember to include here any normalization, data augmentation, or other technique used to pre-process the data\n"
      ]
    },
    {
      "cell_type": "code",
      "execution_count": 30,
      "metadata": {
        "colab": {
          "base_uri": "https://localhost:8080/"
        },
        "id": "LxW9xOcbUb9S",
        "outputId": "ce5e46f9-2362-425e-bc9b-e6faa48d13a7"
      },
      "outputs": [
        {
          "name": "stdout",
          "output_type": "stream",
          "text": [
            "device: cuda\n",
            "=== Dataset Overview ===\n",
            "Total classes: 21\n",
            "Total samples: 2100\n",
            "Sample img shape: (256, 256)\n",
            "Classes:['agricultural', 'airplane', 'baseballdiamond', 'beach', 'buildings', 'chaparral', 'denseresidential', 'forest', 'freeway', 'golfcourse', 'harbor', 'intersection', 'mediumresidential', 'mobilehomepark', 'overpass', 'parkinglot', 'river', 'runway', 'sparseresidential', 'storagetanks', 'tenniscourt']\n",
            "=== Preparing Fold 1/5 ===\n",
            "=== Preparing Fold 2/5 ===\n",
            "=== Preparing Fold 3/5 ===\n",
            "=== Preparing Fold 4/5 ===\n",
            "=== Preparing Fold 5/5 ===\n",
            "Data preparation completed.\n"
          ]
        }
      ],
      "source": [
        "# Data Management\n",
        "DataPath = 'UCMerced_LandUse/Images' # Specify the dataset path\n",
        "device = torch.device('cuda' if torch.cuda.is_available() else 'cpu')\n",
        "print(f\"device: {device}\")\n",
        "try:\n",
        "  Dataset = datasets.ImageFolder(root = DataPath) # Use ImageFolder to read the dataset\n",
        "except:\n",
        "  print(\"The dataset path is wrong, please check the path!\")\n",
        "  exit()\n",
        "\n",
        "# Output basic information of the dataset\n",
        "print(\"=== Dataset Overview ===\")\n",
        "print(f\"Total classes: {len(Dataset.classes)}\")\n",
        "print(f\"Total samples: {len(Dataset)}\")\n",
        "print(f\"Sample img shape: {Dataset[0][0].size}\")\n",
        "print(f\"Classes:{Dataset.classes}\")\n",
        "\n",
        "# Set hyperparameters\n",
        "Inputsize = 256\n",
        "batch_size = 32\n",
        "Numworkers = min(4, os.cpu_count())\n",
        "RandomSeed = 42\n",
        "NFolds = 5\n",
        "Mean=[0.4842, 0.4901, 0.4505]\n",
        "STD=[0.2180, 0.2020, 0.1958]\n",
        "\n",
        "# Read data tags\n",
        "LabelList = []\n",
        "for _, label in Dataset:\n",
        "    LabelList.append(label)\n",
        "Labelarray = np.array(LabelList) # Convert to NumPy array for easy processing\n",
        "\n",
        "# Training set data augmentation and preprocessing\n",
        "TrainTransform = transforms.Compose([\n",
        "    transforms.Resize(Inputsize),\n",
        "    transforms.RandomCrop(Inputsize),\n",
        "    transforms.RandomHorizontalFlip(p=0.5),\n",
        "    transforms.RandomVerticalFlip(p=0.5),\n",
        "    transforms.RandomRotation(15),\n",
        "    transforms.ColorJitter(\n",
        "        brightness=0.2,\n",
        "        contrast=0.2,\n",
        "        saturation=0.2,\n",
        "        hue=0.1\n",
        "    ),\n",
        "    transforms.ToTensor(), # Convert to PyTorch Tensor\n",
        "    transforms.Normalize(mean=Mean, std=STD) # Normalization\n",
        "])\n",
        "\n",
        "# Validation set preprocessing(No data augmentation)\n",
        "TestTransform = transforms.Compose([\n",
        "    transforms.Resize(Inputsize),\n",
        "    transforms.CenterCrop(Inputsize),\n",
        "    transforms.ToTensor(), # Convert to PyTorch Tensor\n",
        "    transforms.Normalize(mean=Mean, std=STD) # Normalization\n",
        "])\n",
        "\n",
        "# Set the random seed to ensure that the experimental results can be reproduced\n",
        "torch.manual_seed(RandomSeed)\n",
        "np.random.seed(RandomSeed)\n",
        "if device.type == 'cuda':\n",
        "  torch.cuda.manual_seed_all(RandomSeed)\n",
        "\n",
        "# 5-fold cross validation\n",
        "kf = KFold(n_splits=NFolds, shuffle=True, random_state=RandomSeed)\n",
        "\n",
        "# Data Index\n",
        "Datasetsize = len(Dataset)\n",
        "Indices = np.arange(len(Dataset)) # Generate sample index\n",
        "\n",
        "Foldloaders = []\n",
        "for fold, (TrainIdx, TestIdx) in enumerate(kf.split(Indices)):\n",
        "    print(f\"=== Preparing Fold {fold+1}/{NFolds} ===\")\n",
        "\n",
        "    TrainDataset = datasets.ImageFolder(root=DataPath, transform=TrainTransform)\n",
        "    TestDataset = datasets.ImageFolder(root=DataPath, transform=TestTransform)\n",
        "\n",
        "    TrainSubset = Subset(TrainDataset, TrainIdx)\n",
        "    TestSubset = Subset(TestDataset, TestIdx)\n",
        "\n",
        "    TrainLoader = DataLoader(TrainSubset, batch_size=batch_size, shuffle=True, num_workers=Numworkers)\n",
        "    TestLoader = DataLoader(TestSubset, batch_size=batch_size, shuffle=False, num_workers=Numworkers)\n",
        "\n",
        "    Foldloaders.append({\n",
        "        'Train': TrainLoader,\n",
        "        'Test': TestLoader,\n",
        "        'TrainIdx': TrainIdx,\n",
        "        'TestIdx': TestIdx\n",
        "    })\n",
        "print(\"Data preparation completed.\")"
      ]
    },
    {
      "cell_type": "markdown",
      "metadata": {
        "id": "xvntIowYyvAg"
      },
      "source": [
        "---\n",
        "\n",
        "# 2. **Neural Networks**\n",
        "\n",
        "\n",
        "1.\tpropose your own Convolutional Neural Network (CNN) to tackle the problem;\n",
        "2.\tdefine at least one existing CNN (such as AlexNet, VGG, ResNet, DenseNet, etc) to tackle the problem;\n",
        "3.\tdefine the necessary components to train the networks (that is, loss function, optimizers, etc);\n",
        "4.\ttrain your proposed architecture from scratch using your training set;\n",
        "5.\ttrain the existing architecture using at least 2 different strategies (i.e., trained from scratch, fine-tuning, feature extractor, etc);\n",
        "6.\tfor all training procedures, separately plot the loss and accuracy with respect to the epoch/iteration.\n",
        "\n"
      ]
    },
    {
      "cell_type": "code",
      "execution_count": 31,
      "metadata": {
        "colab": {
          "base_uri": "https://localhost:8080/"
        },
        "id": "8ighuV3aHalB",
        "outputId": "ddfa7bd9-9d07-49b7-aee9-0251d1ba9996"
      },
      "outputs": [
        {
          "name": "stdout",
          "output_type": "stream",
          "text": [
            "=== Own CNN Architecture ===\n",
            "LandCNN(\n",
            "  (FeatureExtractor): Sequential(\n",
            "    (0): Conv2d(3, 32, kernel_size=(5, 5), stride=(1, 1), padding=(2, 2))\n",
            "    (1): BatchNorm2d(32, eps=1e-05, momentum=0.1, affine=True, track_running_stats=True)\n",
            "    (2): ReLU()\n",
            "    (3): MaxPool2d(kernel_size=2, stride=2, padding=0, dilation=1, ceil_mode=False)\n",
            "    (4): Conv2d(32, 64, kernel_size=(3, 3), stride=(1, 1), padding=(1, 1))\n",
            "    (5): BatchNorm2d(64, eps=1e-05, momentum=0.1, affine=True, track_running_stats=True)\n",
            "    (6): ReLU()\n",
            "    (7): MaxPool2d(kernel_size=2, stride=2, padding=0, dilation=1, ceil_mode=False)\n",
            "    (8): Conv2d(64, 128, kernel_size=(3, 3), stride=(1, 1), padding=(1, 1))\n",
            "    (9): BatchNorm2d(128, eps=1e-05, momentum=0.1, affine=True, track_running_stats=True)\n",
            "    (10): ReLU()\n",
            "    (11): MaxPool2d(kernel_size=2, stride=2, padding=0, dilation=1, ceil_mode=False)\n",
            "    (12): Conv2d(128, 256, kernel_size=(3, 3), stride=(1, 1), padding=(1, 1))\n",
            "    (13): BatchNorm2d(256, eps=1e-05, momentum=0.1, affine=True, track_running_stats=True)\n",
            "    (14): ReLU()\n",
            "    (15): MaxPool2d(kernel_size=2, stride=2, padding=0, dilation=1, ceil_mode=False)\n",
            "    (16): Conv2d(256, 512, kernel_size=(3, 3), stride=(1, 1), padding=(1, 1))\n",
            "    (17): BatchNorm2d(512, eps=1e-05, momentum=0.1, affine=True, track_running_stats=True)\n",
            "    (18): ReLU()\n",
            "    (19): MaxPool2d(kernel_size=2, stride=2, padding=0, dilation=1, ceil_mode=False)\n",
            "  )\n",
            "  (Classifier): Sequential(\n",
            "    (0): Dropout(p=0.5, inplace=False)\n",
            "    (1): Linear(in_features=32768, out_features=1024, bias=True)\n",
            "    (2): ReLU()\n",
            "    (3): BatchNorm1d(1024, eps=1e-05, momentum=0.1, affine=True, track_running_stats=True)\n",
            "    (4): Dropout(p=0.5, inplace=False)\n",
            "    (5): Linear(in_features=1024, out_features=21, bias=True)\n",
            "  )\n",
            ")\n"
          ]
        }
      ],
      "source": [
        "# Own CNN\n",
        "class LandCNN(nn.Module):\n",
        "  def __init__(self, NumClasses=21):\n",
        "    super(LandCNN, self).__init__()\n",
        "\n",
        "    self.FeatureExtractor = nn.Sequential(\n",
        "        nn.Conv2d(3, 32, kernel_size=5, stride=1, padding=2),\n",
        "        nn.BatchNorm2d(32),\n",
        "        nn.ReLU(),\n",
        "        nn.MaxPool2d(kernel_size=2, stride=2),\n",
        "\n",
        "        nn.Conv2d(32, 64, kernel_size=3, stride=1, padding=1),\n",
        "        nn.BatchNorm2d(64),\n",
        "        nn.ReLU(),\n",
        "        nn.MaxPool2d(kernel_size=2, stride=2),\n",
        "\n",
        "        nn.Conv2d(64, 128, kernel_size=3, stride=1, padding=1),\n",
        "        nn.BatchNorm2d(128),\n",
        "        nn.ReLU(),\n",
        "        nn.MaxPool2d(kernel_size=2, stride=2),\n",
        "\n",
        "        nn.Conv2d(128, 256, kernel_size=3, stride=1, padding=1),\n",
        "        nn.BatchNorm2d(256),\n",
        "        nn.ReLU(),\n",
        "        nn.MaxPool2d(kernel_size=2, stride=2),\n",
        "\n",
        "        nn.Conv2d(256, 512, kernel_size=3, stride=1, padding=1),\n",
        "        nn.BatchNorm2d(512),\n",
        "        nn.ReLU(),\n",
        "        nn.MaxPool2d(kernel_size=2, stride=2)\n",
        "    )\n",
        "\n",
        "    self.Classifier = nn.Sequential(\n",
        "        nn.Dropout(0.5),\n",
        "        nn.Linear(512*8*8, 1024),\n",
        "        nn.ReLU(),\n",
        "        nn.BatchNorm1d(1024), # Accelerates convergence\n",
        "        nn.Dropout(0.5),\n",
        "        nn.Linear(1024, NumClasses)\n",
        "    )\n",
        "\n",
        "    self.InitialWeight()\n",
        "\n",
        "  def forward(self, X):\n",
        "    X = self.FeatureExtractor(X)\n",
        "    X = torch.flatten(X, 1)\n",
        "    X = self.Classifier(X)\n",
        "    return X\n",
        "\n",
        "  def InitialWeight(self):\n",
        "    for j in self.modules():\n",
        "      if isinstance(j, nn.Conv2d):\n",
        "        nn.init.kaiming_normal_(j.weight, mode='fan_out', nonlinearity='relu')\n",
        "        if j.bias is not None:\n",
        "          nn.init.constant_(j.bias, 0)\n",
        "      elif isinstance(j, nn.BatchNorm2d):\n",
        "        nn.init.constant_(j.weight, 1)\n",
        "      elif isinstance(j, nn.Linear):\n",
        "        nn.init.normal_(j.weight, 0, 0.01)\n",
        "        nn.init.constant_(j.bias, 0)\n",
        "\n",
        "Model = LandCNN(NumClasses=len(Dataset.classes)).to(device)\n",
        "print(\"=== Own CNN Architecture ===\")\n",
        "print(Model)\n"
      ]
    },
    {
      "cell_type": "code",
      "execution_count": 32,
      "metadata": {
        "colab": {
          "base_uri": "https://localhost:8080/"
        },
        "id": "w3-CfJJh3FtC",
        "outputId": "505f0e9a-2918-4182-9bee-f2ab536684a3"
      },
      "outputs": [
        {
          "name": "stdout",
          "output_type": "stream",
          "text": [
            "=== EfficientNet-B0 Architecture ===\n",
            "EfficientNet(\n",
            "  (conv_stem): Conv2d(3, 32, kernel_size=(3, 3), stride=(2, 2), padding=(1, 1), bias=False)\n",
            "  (bn1): BatchNormAct2d(\n",
            "    32, eps=1e-05, momentum=0.1, affine=True, track_running_stats=True\n",
            "    (drop): Identity()\n",
            "    (act): SiLU(inplace=True)\n",
            "  )\n",
            "  (blocks): Sequential(\n",
            "    (0): Sequential(\n",
            "      (0): DepthwiseSeparableConv(\n",
            "        (conv_dw): Conv2d(32, 32, kernel_size=(3, 3), stride=(1, 1), padding=(1, 1), groups=32, bias=False)\n",
            "        (bn1): BatchNormAct2d(\n",
            "          32, eps=1e-05, momentum=0.1, affine=True, track_running_stats=True\n",
            "          (drop): Identity()\n",
            "          (act): SiLU(inplace=True)\n",
            "        )\n",
            "        (aa): Identity()\n",
            "        (se): SqueezeExcite(\n",
            "          (conv_reduce): Conv2d(32, 8, kernel_size=(1, 1), stride=(1, 1))\n",
            "          (act1): SiLU(inplace=True)\n",
            "          (conv_expand): Conv2d(8, 32, kernel_size=(1, 1), stride=(1, 1))\n",
            "          (gate): Sigmoid()\n",
            "        )\n",
            "        (conv_pw): Conv2d(32, 16, kernel_size=(1, 1), stride=(1, 1), bias=False)\n",
            "        (bn2): BatchNormAct2d(\n",
            "          16, eps=1e-05, momentum=0.1, affine=True, track_running_stats=True\n",
            "          (drop): Identity()\n",
            "          (act): Identity()\n",
            "        )\n",
            "        (drop_path): Identity()\n",
            "      )\n",
            "    )\n",
            "    (1): Sequential(\n",
            "      (0): InvertedResidual(\n",
            "        (conv_pw): Conv2d(16, 96, kernel_size=(1, 1), stride=(1, 1), bias=False)\n",
            "        (bn1): BatchNormAct2d(\n",
            "          96, eps=1e-05, momentum=0.1, affine=True, track_running_stats=True\n",
            "          (drop): Identity()\n",
            "          (act): SiLU(inplace=True)\n",
            "        )\n",
            "        (conv_dw): Conv2d(96, 96, kernel_size=(3, 3), stride=(2, 2), padding=(1, 1), groups=96, bias=False)\n",
            "        (bn2): BatchNormAct2d(\n",
            "          96, eps=1e-05, momentum=0.1, affine=True, track_running_stats=True\n",
            "          (drop): Identity()\n",
            "          (act): SiLU(inplace=True)\n",
            "        )\n",
            "        (aa): Identity()\n",
            "        (se): SqueezeExcite(\n",
            "          (conv_reduce): Conv2d(96, 4, kernel_size=(1, 1), stride=(1, 1))\n",
            "          (act1): SiLU(inplace=True)\n",
            "          (conv_expand): Conv2d(4, 96, kernel_size=(1, 1), stride=(1, 1))\n",
            "          (gate): Sigmoid()\n",
            "        )\n",
            "        (conv_pwl): Conv2d(96, 24, kernel_size=(1, 1), stride=(1, 1), bias=False)\n",
            "        (bn3): BatchNormAct2d(\n",
            "          24, eps=1e-05, momentum=0.1, affine=True, track_running_stats=True\n",
            "          (drop): Identity()\n",
            "          (act): Identity()\n",
            "        )\n",
            "        (drop_path): DropPath(drop_prob=0.006)\n",
            "      )\n",
            "      (1): InvertedResidual(\n",
            "        (conv_pw): Conv2d(24, 144, kernel_size=(1, 1), stride=(1, 1), bias=False)\n",
            "        (bn1): BatchNormAct2d(\n",
            "          144, eps=1e-05, momentum=0.1, affine=True, track_running_stats=True\n",
            "          (drop): Identity()\n",
            "          (act): SiLU(inplace=True)\n",
            "        )\n",
            "        (conv_dw): Conv2d(144, 144, kernel_size=(3, 3), stride=(1, 1), padding=(1, 1), groups=144, bias=False)\n",
            "        (bn2): BatchNormAct2d(\n",
            "          144, eps=1e-05, momentum=0.1, affine=True, track_running_stats=True\n",
            "          (drop): Identity()\n",
            "          (act): SiLU(inplace=True)\n",
            "        )\n",
            "        (aa): Identity()\n",
            "        (se): SqueezeExcite(\n",
            "          (conv_reduce): Conv2d(144, 6, kernel_size=(1, 1), stride=(1, 1))\n",
            "          (act1): SiLU(inplace=True)\n",
            "          (conv_expand): Conv2d(6, 144, kernel_size=(1, 1), stride=(1, 1))\n",
            "          (gate): Sigmoid()\n",
            "        )\n",
            "        (conv_pwl): Conv2d(144, 24, kernel_size=(1, 1), stride=(1, 1), bias=False)\n",
            "        (bn3): BatchNormAct2d(\n",
            "          24, eps=1e-05, momentum=0.1, affine=True, track_running_stats=True\n",
            "          (drop): Identity()\n",
            "          (act): Identity()\n",
            "        )\n",
            "        (drop_path): DropPath(drop_prob=0.013)\n",
            "      )\n",
            "    )\n",
            "    (2): Sequential(\n",
            "      (0): InvertedResidual(\n",
            "        (conv_pw): Conv2d(24, 144, kernel_size=(1, 1), stride=(1, 1), bias=False)\n",
            "        (bn1): BatchNormAct2d(\n",
            "          144, eps=1e-05, momentum=0.1, affine=True, track_running_stats=True\n",
            "          (drop): Identity()\n",
            "          (act): SiLU(inplace=True)\n",
            "        )\n",
            "        (conv_dw): Conv2d(144, 144, kernel_size=(5, 5), stride=(2, 2), padding=(2, 2), groups=144, bias=False)\n",
            "        (bn2): BatchNormAct2d(\n",
            "          144, eps=1e-05, momentum=0.1, affine=True, track_running_stats=True\n",
            "          (drop): Identity()\n",
            "          (act): SiLU(inplace=True)\n",
            "        )\n",
            "        (aa): Identity()\n",
            "        (se): SqueezeExcite(\n",
            "          (conv_reduce): Conv2d(144, 6, kernel_size=(1, 1), stride=(1, 1))\n",
            "          (act1): SiLU(inplace=True)\n",
            "          (conv_expand): Conv2d(6, 144, kernel_size=(1, 1), stride=(1, 1))\n",
            "          (gate): Sigmoid()\n",
            "        )\n",
            "        (conv_pwl): Conv2d(144, 40, kernel_size=(1, 1), stride=(1, 1), bias=False)\n",
            "        (bn3): BatchNormAct2d(\n",
            "          40, eps=1e-05, momentum=0.1, affine=True, track_running_stats=True\n",
            "          (drop): Identity()\n",
            "          (act): Identity()\n",
            "        )\n",
            "        (drop_path): DropPath(drop_prob=0.019)\n",
            "      )\n",
            "      (1): InvertedResidual(\n",
            "        (conv_pw): Conv2d(40, 240, kernel_size=(1, 1), stride=(1, 1), bias=False)\n",
            "        (bn1): BatchNormAct2d(\n",
            "          240, eps=1e-05, momentum=0.1, affine=True, track_running_stats=True\n",
            "          (drop): Identity()\n",
            "          (act): SiLU(inplace=True)\n",
            "        )\n",
            "        (conv_dw): Conv2d(240, 240, kernel_size=(5, 5), stride=(1, 1), padding=(2, 2), groups=240, bias=False)\n",
            "        (bn2): BatchNormAct2d(\n",
            "          240, eps=1e-05, momentum=0.1, affine=True, track_running_stats=True\n",
            "          (drop): Identity()\n",
            "          (act): SiLU(inplace=True)\n",
            "        )\n",
            "        (aa): Identity()\n",
            "        (se): SqueezeExcite(\n",
            "          (conv_reduce): Conv2d(240, 10, kernel_size=(1, 1), stride=(1, 1))\n",
            "          (act1): SiLU(inplace=True)\n",
            "          (conv_expand): Conv2d(10, 240, kernel_size=(1, 1), stride=(1, 1))\n",
            "          (gate): Sigmoid()\n",
            "        )\n",
            "        (conv_pwl): Conv2d(240, 40, kernel_size=(1, 1), stride=(1, 1), bias=False)\n",
            "        (bn3): BatchNormAct2d(\n",
            "          40, eps=1e-05, momentum=0.1, affine=True, track_running_stats=True\n",
            "          (drop): Identity()\n",
            "          (act): Identity()\n",
            "        )\n",
            "        (drop_path): DropPath(drop_prob=0.025)\n",
            "      )\n",
            "    )\n",
            "    (3): Sequential(\n",
            "      (0): InvertedResidual(\n",
            "        (conv_pw): Conv2d(40, 240, kernel_size=(1, 1), stride=(1, 1), bias=False)\n",
            "        (bn1): BatchNormAct2d(\n",
            "          240, eps=1e-05, momentum=0.1, affine=True, track_running_stats=True\n",
            "          (drop): Identity()\n",
            "          (act): SiLU(inplace=True)\n",
            "        )\n",
            "        (conv_dw): Conv2d(240, 240, kernel_size=(3, 3), stride=(2, 2), padding=(1, 1), groups=240, bias=False)\n",
            "        (bn2): BatchNormAct2d(\n",
            "          240, eps=1e-05, momentum=0.1, affine=True, track_running_stats=True\n",
            "          (drop): Identity()\n",
            "          (act): SiLU(inplace=True)\n",
            "        )\n",
            "        (aa): Identity()\n",
            "        (se): SqueezeExcite(\n",
            "          (conv_reduce): Conv2d(240, 10, kernel_size=(1, 1), stride=(1, 1))\n",
            "          (act1): SiLU(inplace=True)\n",
            "          (conv_expand): Conv2d(10, 240, kernel_size=(1, 1), stride=(1, 1))\n",
            "          (gate): Sigmoid()\n",
            "        )\n",
            "        (conv_pwl): Conv2d(240, 80, kernel_size=(1, 1), stride=(1, 1), bias=False)\n",
            "        (bn3): BatchNormAct2d(\n",
            "          80, eps=1e-05, momentum=0.1, affine=True, track_running_stats=True\n",
            "          (drop): Identity()\n",
            "          (act): Identity()\n",
            "        )\n",
            "        (drop_path): DropPath(drop_prob=0.031)\n",
            "      )\n",
            "      (1): InvertedResidual(\n",
            "        (conv_pw): Conv2d(80, 480, kernel_size=(1, 1), stride=(1, 1), bias=False)\n",
            "        (bn1): BatchNormAct2d(\n",
            "          480, eps=1e-05, momentum=0.1, affine=True, track_running_stats=True\n",
            "          (drop): Identity()\n",
            "          (act): SiLU(inplace=True)\n",
            "        )\n",
            "        (conv_dw): Conv2d(480, 480, kernel_size=(3, 3), stride=(1, 1), padding=(1, 1), groups=480, bias=False)\n",
            "        (bn2): BatchNormAct2d(\n",
            "          480, eps=1e-05, momentum=0.1, affine=True, track_running_stats=True\n",
            "          (drop): Identity()\n",
            "          (act): SiLU(inplace=True)\n",
            "        )\n",
            "        (aa): Identity()\n",
            "        (se): SqueezeExcite(\n",
            "          (conv_reduce): Conv2d(480, 20, kernel_size=(1, 1), stride=(1, 1))\n",
            "          (act1): SiLU(inplace=True)\n",
            "          (conv_expand): Conv2d(20, 480, kernel_size=(1, 1), stride=(1, 1))\n",
            "          (gate): Sigmoid()\n",
            "        )\n",
            "        (conv_pwl): Conv2d(480, 80, kernel_size=(1, 1), stride=(1, 1), bias=False)\n",
            "        (bn3): BatchNormAct2d(\n",
            "          80, eps=1e-05, momentum=0.1, affine=True, track_running_stats=True\n",
            "          (drop): Identity()\n",
            "          (act): Identity()\n",
            "        )\n",
            "        (drop_path): DropPath(drop_prob=0.038)\n",
            "      )\n",
            "      (2): InvertedResidual(\n",
            "        (conv_pw): Conv2d(80, 480, kernel_size=(1, 1), stride=(1, 1), bias=False)\n",
            "        (bn1): BatchNormAct2d(\n",
            "          480, eps=1e-05, momentum=0.1, affine=True, track_running_stats=True\n",
            "          (drop): Identity()\n",
            "          (act): SiLU(inplace=True)\n",
            "        )\n",
            "        (conv_dw): Conv2d(480, 480, kernel_size=(3, 3), stride=(1, 1), padding=(1, 1), groups=480, bias=False)\n",
            "        (bn2): BatchNormAct2d(\n",
            "          480, eps=1e-05, momentum=0.1, affine=True, track_running_stats=True\n",
            "          (drop): Identity()\n",
            "          (act): SiLU(inplace=True)\n",
            "        )\n",
            "        (aa): Identity()\n",
            "        (se): SqueezeExcite(\n",
            "          (conv_reduce): Conv2d(480, 20, kernel_size=(1, 1), stride=(1, 1))\n",
            "          (act1): SiLU(inplace=True)\n",
            "          (conv_expand): Conv2d(20, 480, kernel_size=(1, 1), stride=(1, 1))\n",
            "          (gate): Sigmoid()\n",
            "        )\n",
            "        (conv_pwl): Conv2d(480, 80, kernel_size=(1, 1), stride=(1, 1), bias=False)\n",
            "        (bn3): BatchNormAct2d(\n",
            "          80, eps=1e-05, momentum=0.1, affine=True, track_running_stats=True\n",
            "          (drop): Identity()\n",
            "          (act): Identity()\n",
            "        )\n",
            "        (drop_path): DropPath(drop_prob=0.044)\n",
            "      )\n",
            "    )\n",
            "    (4): Sequential(\n",
            "      (0): InvertedResidual(\n",
            "        (conv_pw): Conv2d(80, 480, kernel_size=(1, 1), stride=(1, 1), bias=False)\n",
            "        (bn1): BatchNormAct2d(\n",
            "          480, eps=1e-05, momentum=0.1, affine=True, track_running_stats=True\n",
            "          (drop): Identity()\n",
            "          (act): SiLU(inplace=True)\n",
            "        )\n",
            "        (conv_dw): Conv2d(480, 480, kernel_size=(5, 5), stride=(1, 1), padding=(2, 2), groups=480, bias=False)\n",
            "        (bn2): BatchNormAct2d(\n",
            "          480, eps=1e-05, momentum=0.1, affine=True, track_running_stats=True\n",
            "          (drop): Identity()\n",
            "          (act): SiLU(inplace=True)\n",
            "        )\n",
            "        (aa): Identity()\n",
            "        (se): SqueezeExcite(\n",
            "          (conv_reduce): Conv2d(480, 20, kernel_size=(1, 1), stride=(1, 1))\n",
            "          (act1): SiLU(inplace=True)\n",
            "          (conv_expand): Conv2d(20, 480, kernel_size=(1, 1), stride=(1, 1))\n",
            "          (gate): Sigmoid()\n",
            "        )\n",
            "        (conv_pwl): Conv2d(480, 112, kernel_size=(1, 1), stride=(1, 1), bias=False)\n",
            "        (bn3): BatchNormAct2d(\n",
            "          112, eps=1e-05, momentum=0.1, affine=True, track_running_stats=True\n",
            "          (drop): Identity()\n",
            "          (act): Identity()\n",
            "        )\n",
            "        (drop_path): DropPath(drop_prob=0.050)\n",
            "      )\n",
            "      (1): InvertedResidual(\n",
            "        (conv_pw): Conv2d(112, 672, kernel_size=(1, 1), stride=(1, 1), bias=False)\n",
            "        (bn1): BatchNormAct2d(\n",
            "          672, eps=1e-05, momentum=0.1, affine=True, track_running_stats=True\n",
            "          (drop): Identity()\n",
            "          (act): SiLU(inplace=True)\n",
            "        )\n",
            "        (conv_dw): Conv2d(672, 672, kernel_size=(5, 5), stride=(1, 1), padding=(2, 2), groups=672, bias=False)\n",
            "        (bn2): BatchNormAct2d(\n",
            "          672, eps=1e-05, momentum=0.1, affine=True, track_running_stats=True\n",
            "          (drop): Identity()\n",
            "          (act): SiLU(inplace=True)\n",
            "        )\n",
            "        (aa): Identity()\n",
            "        (se): SqueezeExcite(\n",
            "          (conv_reduce): Conv2d(672, 28, kernel_size=(1, 1), stride=(1, 1))\n",
            "          (act1): SiLU(inplace=True)\n",
            "          (conv_expand): Conv2d(28, 672, kernel_size=(1, 1), stride=(1, 1))\n",
            "          (gate): Sigmoid()\n",
            "        )\n",
            "        (conv_pwl): Conv2d(672, 112, kernel_size=(1, 1), stride=(1, 1), bias=False)\n",
            "        (bn3): BatchNormAct2d(\n",
            "          112, eps=1e-05, momentum=0.1, affine=True, track_running_stats=True\n",
            "          (drop): Identity()\n",
            "          (act): Identity()\n",
            "        )\n",
            "        (drop_path): DropPath(drop_prob=0.056)\n",
            "      )\n",
            "      (2): InvertedResidual(\n",
            "        (conv_pw): Conv2d(112, 672, kernel_size=(1, 1), stride=(1, 1), bias=False)\n",
            "        (bn1): BatchNormAct2d(\n",
            "          672, eps=1e-05, momentum=0.1, affine=True, track_running_stats=True\n",
            "          (drop): Identity()\n",
            "          (act): SiLU(inplace=True)\n",
            "        )\n",
            "        (conv_dw): Conv2d(672, 672, kernel_size=(5, 5), stride=(1, 1), padding=(2, 2), groups=672, bias=False)\n",
            "        (bn2): BatchNormAct2d(\n",
            "          672, eps=1e-05, momentum=0.1, affine=True, track_running_stats=True\n",
            "          (drop): Identity()\n",
            "          (act): SiLU(inplace=True)\n",
            "        )\n",
            "        (aa): Identity()\n",
            "        (se): SqueezeExcite(\n",
            "          (conv_reduce): Conv2d(672, 28, kernel_size=(1, 1), stride=(1, 1))\n",
            "          (act1): SiLU(inplace=True)\n",
            "          (conv_expand): Conv2d(28, 672, kernel_size=(1, 1), stride=(1, 1))\n",
            "          (gate): Sigmoid()\n",
            "        )\n",
            "        (conv_pwl): Conv2d(672, 112, kernel_size=(1, 1), stride=(1, 1), bias=False)\n",
            "        (bn3): BatchNormAct2d(\n",
            "          112, eps=1e-05, momentum=0.1, affine=True, track_running_stats=True\n",
            "          (drop): Identity()\n",
            "          (act): Identity()\n",
            "        )\n",
            "        (drop_path): DropPath(drop_prob=0.062)\n",
            "      )\n",
            "    )\n",
            "    (5): Sequential(\n",
            "      (0): InvertedResidual(\n",
            "        (conv_pw): Conv2d(112, 672, kernel_size=(1, 1), stride=(1, 1), bias=False)\n",
            "        (bn1): BatchNormAct2d(\n",
            "          672, eps=1e-05, momentum=0.1, affine=True, track_running_stats=True\n",
            "          (drop): Identity()\n",
            "          (act): SiLU(inplace=True)\n",
            "        )\n",
            "        (conv_dw): Conv2d(672, 672, kernel_size=(5, 5), stride=(2, 2), padding=(2, 2), groups=672, bias=False)\n",
            "        (bn2): BatchNormAct2d(\n",
            "          672, eps=1e-05, momentum=0.1, affine=True, track_running_stats=True\n",
            "          (drop): Identity()\n",
            "          (act): SiLU(inplace=True)\n",
            "        )\n",
            "        (aa): Identity()\n",
            "        (se): SqueezeExcite(\n",
            "          (conv_reduce): Conv2d(672, 28, kernel_size=(1, 1), stride=(1, 1))\n",
            "          (act1): SiLU(inplace=True)\n",
            "          (conv_expand): Conv2d(28, 672, kernel_size=(1, 1), stride=(1, 1))\n",
            "          (gate): Sigmoid()\n",
            "        )\n",
            "        (conv_pwl): Conv2d(672, 192, kernel_size=(1, 1), stride=(1, 1), bias=False)\n",
            "        (bn3): BatchNormAct2d(\n",
            "          192, eps=1e-05, momentum=0.1, affine=True, track_running_stats=True\n",
            "          (drop): Identity()\n",
            "          (act): Identity()\n",
            "        )\n",
            "        (drop_path): DropPath(drop_prob=0.069)\n",
            "      )\n",
            "      (1): InvertedResidual(\n",
            "        (conv_pw): Conv2d(192, 1152, kernel_size=(1, 1), stride=(1, 1), bias=False)\n",
            "        (bn1): BatchNormAct2d(\n",
            "          1152, eps=1e-05, momentum=0.1, affine=True, track_running_stats=True\n",
            "          (drop): Identity()\n",
            "          (act): SiLU(inplace=True)\n",
            "        )\n",
            "        (conv_dw): Conv2d(1152, 1152, kernel_size=(5, 5), stride=(1, 1), padding=(2, 2), groups=1152, bias=False)\n",
            "        (bn2): BatchNormAct2d(\n",
            "          1152, eps=1e-05, momentum=0.1, affine=True, track_running_stats=True\n",
            "          (drop): Identity()\n",
            "          (act): SiLU(inplace=True)\n",
            "        )\n",
            "        (aa): Identity()\n",
            "        (se): SqueezeExcite(\n",
            "          (conv_reduce): Conv2d(1152, 48, kernel_size=(1, 1), stride=(1, 1))\n",
            "          (act1): SiLU(inplace=True)\n",
            "          (conv_expand): Conv2d(48, 1152, kernel_size=(1, 1), stride=(1, 1))\n",
            "          (gate): Sigmoid()\n",
            "        )\n",
            "        (conv_pwl): Conv2d(1152, 192, kernel_size=(1, 1), stride=(1, 1), bias=False)\n",
            "        (bn3): BatchNormAct2d(\n",
            "          192, eps=1e-05, momentum=0.1, affine=True, track_running_stats=True\n",
            "          (drop): Identity()\n",
            "          (act): Identity()\n",
            "        )\n",
            "        (drop_path): DropPath(drop_prob=0.075)\n",
            "      )\n",
            "      (2): InvertedResidual(\n",
            "        (conv_pw): Conv2d(192, 1152, kernel_size=(1, 1), stride=(1, 1), bias=False)\n",
            "        (bn1): BatchNormAct2d(\n",
            "          1152, eps=1e-05, momentum=0.1, affine=True, track_running_stats=True\n",
            "          (drop): Identity()\n",
            "          (act): SiLU(inplace=True)\n",
            "        )\n",
            "        (conv_dw): Conv2d(1152, 1152, kernel_size=(5, 5), stride=(1, 1), padding=(2, 2), groups=1152, bias=False)\n",
            "        (bn2): BatchNormAct2d(\n",
            "          1152, eps=1e-05, momentum=0.1, affine=True, track_running_stats=True\n",
            "          (drop): Identity()\n",
            "          (act): SiLU(inplace=True)\n",
            "        )\n",
            "        (aa): Identity()\n",
            "        (se): SqueezeExcite(\n",
            "          (conv_reduce): Conv2d(1152, 48, kernel_size=(1, 1), stride=(1, 1))\n",
            "          (act1): SiLU(inplace=True)\n",
            "          (conv_expand): Conv2d(48, 1152, kernel_size=(1, 1), stride=(1, 1))\n",
            "          (gate): Sigmoid()\n",
            "        )\n",
            "        (conv_pwl): Conv2d(1152, 192, kernel_size=(1, 1), stride=(1, 1), bias=False)\n",
            "        (bn3): BatchNormAct2d(\n",
            "          192, eps=1e-05, momentum=0.1, affine=True, track_running_stats=True\n",
            "          (drop): Identity()\n",
            "          (act): Identity()\n",
            "        )\n",
            "        (drop_path): DropPath(drop_prob=0.081)\n",
            "      )\n",
            "      (3): InvertedResidual(\n",
            "        (conv_pw): Conv2d(192, 1152, kernel_size=(1, 1), stride=(1, 1), bias=False)\n",
            "        (bn1): BatchNormAct2d(\n",
            "          1152, eps=1e-05, momentum=0.1, affine=True, track_running_stats=True\n",
            "          (drop): Identity()\n",
            "          (act): SiLU(inplace=True)\n",
            "        )\n",
            "        (conv_dw): Conv2d(1152, 1152, kernel_size=(5, 5), stride=(1, 1), padding=(2, 2), groups=1152, bias=False)\n",
            "        (bn2): BatchNormAct2d(\n",
            "          1152, eps=1e-05, momentum=0.1, affine=True, track_running_stats=True\n",
            "          (drop): Identity()\n",
            "          (act): SiLU(inplace=True)\n",
            "        )\n",
            "        (aa): Identity()\n",
            "        (se): SqueezeExcite(\n",
            "          (conv_reduce): Conv2d(1152, 48, kernel_size=(1, 1), stride=(1, 1))\n",
            "          (act1): SiLU(inplace=True)\n",
            "          (conv_expand): Conv2d(48, 1152, kernel_size=(1, 1), stride=(1, 1))\n",
            "          (gate): Sigmoid()\n",
            "        )\n",
            "        (conv_pwl): Conv2d(1152, 192, kernel_size=(1, 1), stride=(1, 1), bias=False)\n",
            "        (bn3): BatchNormAct2d(\n",
            "          192, eps=1e-05, momentum=0.1, affine=True, track_running_stats=True\n",
            "          (drop): Identity()\n",
            "          (act): Identity()\n",
            "        )\n",
            "        (drop_path): DropPath(drop_prob=0.088)\n",
            "      )\n",
            "    )\n",
            "    (6): Sequential(\n",
            "      (0): InvertedResidual(\n",
            "        (conv_pw): Conv2d(192, 1152, kernel_size=(1, 1), stride=(1, 1), bias=False)\n",
            "        (bn1): BatchNormAct2d(\n",
            "          1152, eps=1e-05, momentum=0.1, affine=True, track_running_stats=True\n",
            "          (drop): Identity()\n",
            "          (act): SiLU(inplace=True)\n",
            "        )\n",
            "        (conv_dw): Conv2d(1152, 1152, kernel_size=(3, 3), stride=(1, 1), padding=(1, 1), groups=1152, bias=False)\n",
            "        (bn2): BatchNormAct2d(\n",
            "          1152, eps=1e-05, momentum=0.1, affine=True, track_running_stats=True\n",
            "          (drop): Identity()\n",
            "          (act): SiLU(inplace=True)\n",
            "        )\n",
            "        (aa): Identity()\n",
            "        (se): SqueezeExcite(\n",
            "          (conv_reduce): Conv2d(1152, 48, kernel_size=(1, 1), stride=(1, 1))\n",
            "          (act1): SiLU(inplace=True)\n",
            "          (conv_expand): Conv2d(48, 1152, kernel_size=(1, 1), stride=(1, 1))\n",
            "          (gate): Sigmoid()\n",
            "        )\n",
            "        (conv_pwl): Conv2d(1152, 320, kernel_size=(1, 1), stride=(1, 1), bias=False)\n",
            "        (bn3): BatchNormAct2d(\n",
            "          320, eps=1e-05, momentum=0.1, affine=True, track_running_stats=True\n",
            "          (drop): Identity()\n",
            "          (act): Identity()\n",
            "        )\n",
            "        (drop_path): DropPath(drop_prob=0.094)\n",
            "      )\n",
            "    )\n",
            "  )\n",
            "  (conv_head): Conv2d(320, 1280, kernel_size=(1, 1), stride=(1, 1), bias=False)\n",
            "  (bn2): BatchNormAct2d(\n",
            "    1280, eps=1e-05, momentum=0.1, affine=True, track_running_stats=True\n",
            "    (drop): Identity()\n",
            "    (act): SiLU(inplace=True)\n",
            "  )\n",
            "  (global_pool): SelectAdaptivePool2d(pool_type=avg, flatten=Flatten(start_dim=1, end_dim=-1))\n",
            "  (classifier): Linear(in_features=1280, out_features=21, bias=True)\n",
            ")\n",
            "Total parameters: 4034449\n",
            "Group coverage: 2773041\n"
          ]
        }
      ],
      "source": [
        "# Implement EfficientNetwork\n",
        "def EfficientNet(ModelName='efficientnet_b0', pretrained=True, Numclasses=21):\n",
        "    \"\"\"Create and configure the EfficientNet model\"\"\"\n",
        "    model = timm.create_model(\n",
        "        ModelName,\n",
        "        pretrained=pretrained,\n",
        "        num_classes=Numclasses,\n",
        "        drop_rate=0.2,\n",
        "        drop_path_rate=0.1\n",
        "    ).to(device)\n",
        "\n",
        "    ParaGps = []\n",
        "    # Transfer Learning\n",
        "    if pretrained:\n",
        "      ParaGps.extend([\n",
        "        {'params': model.blocks[5].parameters(), 'lr': 1e-4},\n",
        "        {'params': model.blocks[6].parameters(), 'lr': 1e-4},\n",
        "        {'params': model.bn2.parameters(), 'lr': 1e-4},\n",
        "        {'params': model.classifier.parameters(), 'lr': 5e-4}\n",
        "      ])\n",
        "    # Training from scratch\n",
        "    else:\n",
        "      ParaGps.extend([\n",
        "        {'params': model.conv_stem.parameters(), 'lr': 1e-5},  # stem\n",
        "        {'params': model.bn1.parameters(), 'lr': 1e-5}, # BN\n",
        "      ])\n",
        "      for block in model.blocks:\n",
        "        ParaGps.append({'params': block.parameters(), 'lr': 1e-4})\n",
        "      ParaGps.extend([\n",
        "          {'params': model.conv_head.parameters(), 'lr': 1e-4}, # conv_head\n",
        "          {'params': model.bn2.parameters(), 'lr': 1e-4},# bn2\n",
        "          {'params': model.classifier.parameters(), 'lr': 5e-4}\n",
        "      ])\n",
        "\n",
        "    return model, ParaGps\n",
        "\n",
        "model, ParaGps = EfficientNet(pretrained=True)\n",
        "print(\"=== EfficientNet-B0 Architecture ===\")\n",
        "print(model)\n",
        "print(f\"Total parameters: {sum(p.numel() for p in model.parameters())}\")\n",
        "print(f\"Group coverage: {sum(p.numel() for g in ParaGps for p in g['params'])}\")\n"
      ]
    },
    {
      "cell_type": "code",
      "execution_count": 33,
      "metadata": {
        "id": "12SJIKjb8qIv"
      },
      "outputs": [],
      "source": [
        "# Implement Weighted Cross Entropy\n",
        "Labelarray = np.array(Labelarray).astype(int)\n",
        "ClassCounts = np.bincount(Labelarray)\n",
        "ClassWeights = 1. / torch.tensor(ClassCounts+1e-6, dtype=torch.float).to(device)\n",
        "Criterion = nn.CrossEntropyLoss(weight=ClassWeights)\n",
        "\n",
        "# AdamW\n",
        "Optimizer = AdamW(\n",
        "    params=ParaGps,\n",
        "    lr=3e-4,\n",
        "    weight_decay=0.05,\n",
        "    betas=(0.9, 0.999)\n",
        ")\n",
        "\n",
        "# Learning Rate Scheduler:Cosine annealing(https://pytorch.org/docs/stable/generated/torch.optim.lr_scheduler.CosineAnnealingLR.html)\n",
        "Scheduler = CosineAnnealingWarmRestarts(\n",
        "    Optimizer,\n",
        "    T_0=20,\n",
        "    T_mult=2\n",
        ")\n",
        "\n",
        "Scaler = torch.amp.GradScaler(enabled=(device.type == 'cuda'))\n",
        "\n",
        "def TrainStep(Model, TrainDataLoader, Optimizer, Criterion):\n",
        "  Model.train()\n",
        "  totalLoss = 0\n",
        "  for batch in tqdm(TrainDataLoader, desc='training'):\n",
        "    inputs, labels = batch[0].to(device), batch[1].to(device)\n",
        "    Optimizer.zero_grad()\n",
        "    outputs = Model(inputs)\n",
        "    loss = Criterion(outputs, labels)\n",
        "    loss.backward()\n",
        "    Optimizer.step()\n",
        "    totalLoss += loss.item()\n",
        "  return totalLoss/len(TrainDataLoader)\n",
        "\n",
        "def EvalStep(Model, TestDataLoader, Criterion):\n",
        "  Model.eval()\n",
        "  totalLoss, correct = 0, 0\n",
        "  with torch.no_grad():\n",
        "    for inputs, labels in TestDataLoader:\n",
        "      inputs, labels = inputs.to(device), labels.to(device)\n",
        "      outputs = Model(inputs)\n",
        "      loss = Criterion(outputs, labels)\n",
        "      totalLoss += loss.item()\n",
        "      correct += (outputs.argmax(1) == labels).sum().item()\n",
        "  return totalLoss/len(TestDataLoader), correct/len(TestDataLoader.dataset)\n",
        "\n",
        "# Early Stopping Mechanism\n",
        "class EarlyStopping:\n",
        "  def __init__(self, Patience=7, Delta=0.001):\n",
        "    self.Patience = Patience\n",
        "    self.Delta = Delta\n",
        "    self.Counter = 0\n",
        "    self.BestScore = None\n",
        "    self.EarlyStop = False\n",
        "\n",
        "  def __call__(self, ValLoss, Model):\n",
        "    Score = -ValLoss\n",
        "    if self.BestScore is None:\n",
        "      self.BestScore = Score\n",
        "      self.SaveCheckpoint(ValLoss, Model)\n",
        "    elif Score < self.BestScore + self.Delta:\n",
        "      self.Counter += 1\n",
        "      if self.Counter >= self.Patience:\n",
        "        self.EarlyStop = True\n",
        "    else:\n",
        "      self.BestScore = Score\n",
        "      self.SaveCheckpoint(ValLoss, Model)\n",
        "      self.Counter = 0\n",
        "\n",
        "  def SaveCheckpoint(self, ValLoss, Model):\n",
        "    print(f\"Validation loss improved: {self.BestScore:.4f} → {ValLoss:.4f}. Saving model...\")\n",
        "    torch.save(Model.state_dict(), 'Checkpoint.pt')\n",
        "\n",
        "def TrainModel(Model, TrainDataLoader, TestDataLoader, Optimizer, Criterion, Scheduler, EarlyStop, Epochs):\n",
        "    TrainLosses = []\n",
        "    ValLosses = []\n",
        "    ValAccs = []\n",
        "    for Epoch in range(Epochs):\n",
        "      TrainLoss = TrainStep(Model, TrainDataLoader, Optimizer, Criterion)\n",
        "      ValLoss, ValAcc = EvalStep(Model, TestDataLoader, Criterion)\n",
        "\n",
        "      Scheduler.step()\n",
        "      TrainLosses.append(TrainLoss)\n",
        "      ValLosses.append(ValLoss)\n",
        "      ValAccs.append(ValAcc)\n",
        "\n",
        "      print(f\"Epoch {Epoch+1}/{Epochs} | {TrainLoss:.4f} | Val Loss: {ValLoss:.4f} | Val Acc: {ValAcc:.2%}\")\n",
        "\n",
        "      EarlyStop(ValLoss, Model)\n",
        "      if EarlyStop.EarlyStop:\n",
        "        print(\"Early stopping triggered\")\n",
        "        break\n",
        "\n",
        "    return TrainLosses, ValLosses, ValAccs\n"
      ]
    },
    {
      "cell_type": "code",
      "execution_count": null,
      "metadata": {
        "colab": {
          "base_uri": "https://localhost:8080/"
        },
        "id": "JFqTDONX-yN5",
        "outputId": "da7d82f1-3910-4b02-af5e-4c83ef3de493"
      },
      "outputs": [
        {
          "name": "stdout",
          "output_type": "stream",
          "text": [
            "=== Training Fold 1/5 ===\n"
          ]
        },
        {
          "name": "stderr",
          "output_type": "stream",
          "text": [
            "100%|██████████| 53/53 [00:15<00:00,  3.39it/s]\n"
          ]
        },
        {
          "name": "stdout",
          "output_type": "stream",
          "text": [
            "Epoch 1/15 | Train Loss: 2.3727 | Val Loss: 1.9031 | Val Acc: 46.67%\n",
            "Validation loss improved: -1.9031 → 1.9031. Saving model...\n"
          ]
        },
        {
          "name": "stderr",
          "output_type": "stream",
          "text": [
            "100%|██████████| 53/53 [00:16<00:00,  3.21it/s]\n"
          ]
        },
        {
          "name": "stdout",
          "output_type": "stream",
          "text": [
            "Epoch 2/15 | Train Loss: 1.8285 | Val Loss: 1.5485 | Val Acc: 61.90%\n",
            "Validation loss improved: -1.5485 → 1.5485. Saving model...\n"
          ]
        },
        {
          "name": "stderr",
          "output_type": "stream",
          "text": [
            "100%|██████████| 53/53 [00:15<00:00,  3.51it/s]\n"
          ]
        },
        {
          "name": "stdout",
          "output_type": "stream",
          "text": [
            "Epoch 3/15 | Train Loss: 1.4954 | Val Loss: 1.3309 | Val Acc: 62.38%\n",
            "Validation loss improved: -1.3309 → 1.3309. Saving model...\n"
          ]
        },
        {
          "name": "stderr",
          "output_type": "stream",
          "text": [
            "100%|██████████| 53/53 [00:14<00:00,  3.69it/s]\n"
          ]
        },
        {
          "name": "stdout",
          "output_type": "stream",
          "text": [
            "Epoch 4/15 | Train Loss: 1.2529 | Val Loss: 1.0939 | Val Acc: 70.48%\n",
            "Validation loss improved: -1.0939 → 1.0939. Saving model...\n"
          ]
        },
        {
          "name": "stderr",
          "output_type": "stream",
          "text": [
            "100%|██████████| 53/53 [00:14<00:00,  3.63it/s]\n"
          ]
        },
        {
          "name": "stdout",
          "output_type": "stream",
          "text": [
            "Epoch 5/15 | Train Loss: 1.0713 | Val Loss: 0.9777 | Val Acc: 66.90%\n",
            "Validation loss improved: -0.9777 → 0.9777. Saving model...\n"
          ]
        },
        {
          "name": "stderr",
          "output_type": "stream",
          "text": [
            "100%|██████████| 53/53 [00:14<00:00,  3.66it/s]\n"
          ]
        },
        {
          "name": "stdout",
          "output_type": "stream",
          "text": [
            "Epoch 6/15 | Train Loss: 0.9724 | Val Loss: 1.0653 | Val Acc: 70.71%\n"
          ]
        },
        {
          "name": "stderr",
          "output_type": "stream",
          "text": [
            "100%|██████████| 53/53 [00:15<00:00,  3.39it/s]\n"
          ]
        },
        {
          "name": "stdout",
          "output_type": "stream",
          "text": [
            "Epoch 7/15 | Train Loss: 0.8615 | Val Loss: 0.8629 | Val Acc: 72.62%\n",
            "Validation loss improved: -0.8629 → 0.8629. Saving model...\n"
          ]
        },
        {
          "name": "stderr",
          "output_type": "stream",
          "text": [
            "100%|██████████| 53/53 [00:14<00:00,  3.69it/s]\n"
          ]
        },
        {
          "name": "stdout",
          "output_type": "stream",
          "text": [
            "Epoch 8/15 | Train Loss: 0.7772 | Val Loss: 0.6556 | Val Acc: 80.95%\n",
            "Validation loss improved: -0.6556 → 0.6556. Saving model...\n"
          ]
        },
        {
          "name": "stderr",
          "output_type": "stream",
          "text": [
            "100%|██████████| 53/53 [00:15<00:00,  3.44it/s]\n"
          ]
        },
        {
          "name": "stdout",
          "output_type": "stream",
          "text": [
            "Epoch 9/15 | Train Loss: 0.7297 | Val Loss: 0.7917 | Val Acc: 75.71%\n"
          ]
        },
        {
          "name": "stderr",
          "output_type": "stream",
          "text": [
            "100%|██████████| 53/53 [00:14<00:00,  3.57it/s]\n"
          ]
        },
        {
          "name": "stdout",
          "output_type": "stream",
          "text": [
            "Epoch 10/15 | Train Loss: 0.6481 | Val Loss: 0.7211 | Val Acc: 80.24%\n"
          ]
        },
        {
          "name": "stderr",
          "output_type": "stream",
          "text": [
            "100%|██████████| 53/53 [00:14<00:00,  3.68it/s]\n"
          ]
        },
        {
          "name": "stdout",
          "output_type": "stream",
          "text": [
            "Epoch 11/15 | Train Loss: 0.6315 | Val Loss: 0.6527 | Val Acc: 78.10%\n",
            "Validation loss improved: -0.6527 → 0.6527. Saving model...\n"
          ]
        },
        {
          "name": "stderr",
          "output_type": "stream",
          "text": [
            "100%|██████████| 53/53 [00:14<00:00,  3.63it/s]\n"
          ]
        },
        {
          "name": "stdout",
          "output_type": "stream",
          "text": [
            "Epoch 12/15 | Train Loss: 0.5656 | Val Loss: 0.6327 | Val Acc: 79.76%\n",
            "Validation loss improved: -0.6327 → 0.6327. Saving model...\n"
          ]
        },
        {
          "name": "stderr",
          "output_type": "stream",
          "text": [
            "100%|██████████| 53/53 [00:14<00:00,  3.72it/s]\n"
          ]
        },
        {
          "name": "stdout",
          "output_type": "stream",
          "text": [
            "Epoch 13/15 | Train Loss: 0.5435 | Val Loss: 0.4658 | Val Acc: 87.38%\n",
            "Validation loss improved: -0.4658 → 0.4658. Saving model...\n"
          ]
        },
        {
          "name": "stderr",
          "output_type": "stream",
          "text": [
            "100%|██████████| 53/53 [00:15<00:00,  3.41it/s]\n"
          ]
        },
        {
          "name": "stdout",
          "output_type": "stream",
          "text": [
            "Epoch 14/15 | Train Loss: 0.5239 | Val Loss: 0.6013 | Val Acc: 80.71%\n"
          ]
        },
        {
          "name": "stderr",
          "output_type": "stream",
          "text": [
            "100%|██████████| 53/53 [00:14<00:00,  3.67it/s]\n"
          ]
        },
        {
          "name": "stdout",
          "output_type": "stream",
          "text": [
            "Epoch 15/15 | Train Loss: 0.5111 | Val Loss: 0.4810 | Val Acc: 85.95%\n",
            "=== Training Fold 2/5 ===\n"
          ]
        },
        {
          "name": "stderr",
          "output_type": "stream",
          "text": [
            "100%|██████████| 53/53 [00:14<00:00,  3.67it/s]\n"
          ]
        },
        {
          "name": "stdout",
          "output_type": "stream",
          "text": [
            "Epoch 1/15 | Train Loss: 2.3955 | Val Loss: 2.0291 | Val Acc: 39.52%\n",
            "Validation loss improved: -2.0291 → 2.0291. Saving model...\n"
          ]
        },
        {
          "name": "stderr",
          "output_type": "stream",
          "text": [
            "100%|██████████| 53/53 [00:14<00:00,  3.69it/s]\n"
          ]
        },
        {
          "name": "stdout",
          "output_type": "stream",
          "text": [
            "Epoch 2/15 | Train Loss: 1.8445 | Val Loss: 1.5022 | Val Acc: 62.62%\n",
            "Validation loss improved: -1.5022 → 1.5022. Saving model...\n"
          ]
        },
        {
          "name": "stderr",
          "output_type": "stream",
          "text": [
            "100%|██████████| 53/53 [00:14<00:00,  3.66it/s]\n"
          ]
        },
        {
          "name": "stdout",
          "output_type": "stream",
          "text": [
            "Epoch 3/15 | Train Loss: 1.5226 | Val Loss: 1.3041 | Val Acc: 60.48%\n",
            "Validation loss improved: -1.3041 → 1.3041. Saving model...\n"
          ]
        },
        {
          "name": "stderr",
          "output_type": "stream",
          "text": [
            "100%|██████████| 53/53 [00:14<00:00,  3.72it/s]\n"
          ]
        },
        {
          "name": "stdout",
          "output_type": "stream",
          "text": [
            "Epoch 4/15 | Train Loss: 1.3063 | Val Loss: 1.1181 | Val Acc: 68.57%\n",
            "Validation loss improved: -1.1181 → 1.1181. Saving model...\n"
          ]
        },
        {
          "name": "stderr",
          "output_type": "stream",
          "text": [
            "100%|██████████| 53/53 [00:14<00:00,  3.69it/s]\n"
          ]
        },
        {
          "name": "stdout",
          "output_type": "stream",
          "text": [
            "Epoch 5/15 | Train Loss: 1.1414 | Val Loss: 1.0033 | Val Acc: 68.81%\n",
            "Validation loss improved: -1.0033 → 1.0033. Saving model...\n"
          ]
        },
        {
          "name": "stderr",
          "output_type": "stream",
          "text": [
            "100%|██████████| 53/53 [00:14<00:00,  3.70it/s]\n"
          ]
        },
        {
          "name": "stdout",
          "output_type": "stream",
          "text": [
            "Epoch 6/15 | Train Loss: 0.9964 | Val Loss: 0.8571 | Val Acc: 75.24%\n",
            "Validation loss improved: -0.8571 → 0.8571. Saving model...\n"
          ]
        },
        {
          "name": "stderr",
          "output_type": "stream",
          "text": [
            "100%|██████████| 53/53 [00:14<00:00,  3.68it/s]\n"
          ]
        },
        {
          "name": "stdout",
          "output_type": "stream",
          "text": [
            "Epoch 7/15 | Train Loss: 0.8500 | Val Loss: 0.7933 | Val Acc: 74.29%\n",
            "Validation loss improved: -0.7933 → 0.7933. Saving model...\n"
          ]
        },
        {
          "name": "stderr",
          "output_type": "stream",
          "text": [
            "100%|██████████| 53/53 [00:14<00:00,  3.69it/s]\n"
          ]
        },
        {
          "name": "stdout",
          "output_type": "stream",
          "text": [
            "Epoch 8/15 | Train Loss: 0.8105 | Val Loss: 0.7846 | Val Acc: 77.14%\n",
            "Validation loss improved: -0.7846 → 0.7846. Saving model...\n"
          ]
        },
        {
          "name": "stderr",
          "output_type": "stream",
          "text": [
            "100%|██████████| 53/53 [00:14<00:00,  3.62it/s]\n"
          ]
        },
        {
          "name": "stdout",
          "output_type": "stream",
          "text": [
            "Epoch 9/15 | Train Loss: 0.7492 | Val Loss: 0.7334 | Val Acc: 79.05%\n",
            "Validation loss improved: -0.7334 → 0.7334. Saving model...\n"
          ]
        },
        {
          "name": "stderr",
          "output_type": "stream",
          "text": [
            "100%|██████████| 53/53 [00:16<00:00,  3.26it/s]\n"
          ]
        },
        {
          "name": "stdout",
          "output_type": "stream",
          "text": [
            "Epoch 10/15 | Train Loss: 0.6888 | Val Loss: 0.7118 | Val Acc: 77.62%\n",
            "Validation loss improved: -0.7118 → 0.7118. Saving model...\n"
          ]
        },
        {
          "name": "stderr",
          "output_type": "stream",
          "text": [
            "100%|██████████| 53/53 [00:14<00:00,  3.67it/s]\n"
          ]
        },
        {
          "name": "stdout",
          "output_type": "stream",
          "text": [
            "Epoch 11/15 | Train Loss: 0.6382 | Val Loss: 0.6205 | Val Acc: 82.14%\n",
            "Validation loss improved: -0.6205 → 0.6205. Saving model...\n"
          ]
        },
        {
          "name": "stderr",
          "output_type": "stream",
          "text": [
            "100%|██████████| 53/53 [00:14<00:00,  3.71it/s]\n"
          ]
        },
        {
          "name": "stdout",
          "output_type": "stream",
          "text": [
            "Epoch 12/15 | Train Loss: 0.6157 | Val Loss: 0.5034 | Val Acc: 84.76%\n",
            "Validation loss improved: -0.5034 → 0.5034. Saving model...\n"
          ]
        },
        {
          "name": "stderr",
          "output_type": "stream",
          "text": [
            "100%|██████████| 53/53 [00:14<00:00,  3.72it/s]\n"
          ]
        },
        {
          "name": "stdout",
          "output_type": "stream",
          "text": [
            "Epoch 13/15 | Train Loss: 0.5572 | Val Loss: 0.5839 | Val Acc: 81.67%\n"
          ]
        },
        {
          "name": "stderr",
          "output_type": "stream",
          "text": [
            "100%|██████████| 53/53 [00:15<00:00,  3.44it/s]\n"
          ]
        },
        {
          "name": "stdout",
          "output_type": "stream",
          "text": [
            "Epoch 14/15 | Train Loss: 0.5149 | Val Loss: 0.4991 | Val Acc: 84.52%\n",
            "Validation loss improved: -0.4991 → 0.4991. Saving model...\n"
          ]
        },
        {
          "name": "stderr",
          "output_type": "stream",
          "text": [
            "100%|██████████| 53/53 [00:14<00:00,  3.67it/s]\n"
          ]
        },
        {
          "name": "stdout",
          "output_type": "stream",
          "text": [
            "Epoch 15/15 | Train Loss: 0.5047 | Val Loss: 0.5580 | Val Acc: 81.43%\n",
            "=== Training Fold 3/5 ===\n"
          ]
        },
        {
          "name": "stderr",
          "output_type": "stream",
          "text": [
            "100%|██████████| 53/53 [00:14<00:00,  3.69it/s]\n"
          ]
        },
        {
          "name": "stdout",
          "output_type": "stream",
          "text": [
            "Epoch 1/15 | Train Loss: 2.4526 | Val Loss: 1.9979 | Val Acc: 39.52%\n",
            "Validation loss improved: -1.9979 → 1.9979. Saving model...\n"
          ]
        },
        {
          "name": "stderr",
          "output_type": "stream",
          "text": [
            "100%|██████████| 53/53 [00:14<00:00,  3.56it/s]\n"
          ]
        },
        {
          "name": "stdout",
          "output_type": "stream",
          "text": [
            "Epoch 2/15 | Train Loss: 1.8382 | Val Loss: 1.6025 | Val Acc: 50.71%\n",
            "Validation loss improved: -1.6025 → 1.6025. Saving model...\n"
          ]
        },
        {
          "name": "stderr",
          "output_type": "stream",
          "text": [
            "100%|██████████| 53/53 [00:14<00:00,  3.68it/s]\n"
          ]
        },
        {
          "name": "stdout",
          "output_type": "stream",
          "text": [
            "Epoch 3/15 | Train Loss: 1.4760 | Val Loss: 1.4419 | Val Acc: 61.43%\n",
            "Validation loss improved: -1.4419 → 1.4419. Saving model...\n"
          ]
        },
        {
          "name": "stderr",
          "output_type": "stream",
          "text": [
            "100%|██████████| 53/53 [00:14<00:00,  3.71it/s]\n"
          ]
        },
        {
          "name": "stdout",
          "output_type": "stream",
          "text": [
            "Epoch 4/15 | Train Loss: 1.3211 | Val Loss: 1.3328 | Val Acc: 62.14%\n",
            "Validation loss improved: -1.3328 → 1.3328. Saving model...\n"
          ]
        },
        {
          "name": "stderr",
          "output_type": "stream",
          "text": [
            "100%|██████████| 53/53 [00:14<00:00,  3.65it/s]\n"
          ]
        },
        {
          "name": "stdout",
          "output_type": "stream",
          "text": [
            "Epoch 5/15 | Train Loss: 1.1369 | Val Loss: 1.1348 | Val Acc: 65.48%\n",
            "Validation loss improved: -1.1348 → 1.1348. Saving model...\n"
          ]
        },
        {
          "name": "stderr",
          "output_type": "stream",
          "text": [
            "100%|██████████| 53/53 [00:14<00:00,  3.59it/s]\n"
          ]
        },
        {
          "name": "stdout",
          "output_type": "stream",
          "text": [
            "Epoch 6/15 | Train Loss: 1.0106 | Val Loss: 3.4882 | Val Acc: 48.57%\n"
          ]
        },
        {
          "name": "stderr",
          "output_type": "stream",
          "text": [
            "100%|██████████| 53/53 [00:14<00:00,  3.73it/s]\n"
          ]
        },
        {
          "name": "stdout",
          "output_type": "stream",
          "text": [
            "Epoch 7/15 | Train Loss: 0.9727 | Val Loss: 0.9567 | Val Acc: 72.14%\n",
            "Validation loss improved: -0.9567 → 0.9567. Saving model...\n"
          ]
        },
        {
          "name": "stderr",
          "output_type": "stream",
          "text": [
            "100%|██████████| 53/53 [00:14<00:00,  3.72it/s]\n"
          ]
        },
        {
          "name": "stdout",
          "output_type": "stream",
          "text": [
            "Epoch 8/15 | Train Loss: 0.8794 | Val Loss: 0.8648 | Val Acc: 74.29%\n",
            "Validation loss improved: -0.8648 → 0.8648. Saving model...\n"
          ]
        },
        {
          "name": "stderr",
          "output_type": "stream",
          "text": [
            "100%|██████████| 53/53 [00:14<00:00,  3.71it/s]\n"
          ]
        },
        {
          "name": "stdout",
          "output_type": "stream",
          "text": [
            "Epoch 9/15 | Train Loss: 0.7683 | Val Loss: 0.8937 | Val Acc: 73.57%\n"
          ]
        },
        {
          "name": "stderr",
          "output_type": "stream",
          "text": [
            "100%|██████████| 53/53 [00:15<00:00,  3.44it/s]\n"
          ]
        },
        {
          "name": "stdout",
          "output_type": "stream",
          "text": [
            "Epoch 10/15 | Train Loss: 0.7305 | Val Loss: 0.7748 | Val Acc: 80.24%\n",
            "Validation loss improved: -0.7748 → 0.7748. Saving model...\n"
          ]
        },
        {
          "name": "stderr",
          "output_type": "stream",
          "text": [
            "100%|██████████| 53/53 [00:15<00:00,  3.48it/s]\n"
          ]
        },
        {
          "name": "stdout",
          "output_type": "stream",
          "text": [
            "Epoch 11/15 | Train Loss: 0.6512 | Val Loss: 0.6555 | Val Acc: 80.24%\n",
            "Validation loss improved: -0.6555 → 0.6555. Saving model...\n"
          ]
        },
        {
          "name": "stderr",
          "output_type": "stream",
          "text": [
            "100%|██████████| 53/53 [00:14<00:00,  3.71it/s]\n"
          ]
        },
        {
          "name": "stdout",
          "output_type": "stream",
          "text": [
            "Epoch 12/15 | Train Loss: 0.5883 | Val Loss: 0.5694 | Val Acc: 82.62%\n",
            "Validation loss improved: -0.5694 → 0.5694. Saving model...\n"
          ]
        },
        {
          "name": "stderr",
          "output_type": "stream",
          "text": [
            "100%|██████████| 53/53 [00:14<00:00,  3.61it/s]\n"
          ]
        },
        {
          "name": "stdout",
          "output_type": "stream",
          "text": [
            "Epoch 13/15 | Train Loss: 0.5621 | Val Loss: 0.6793 | Val Acc: 80.95%\n"
          ]
        },
        {
          "name": "stderr",
          "output_type": "stream",
          "text": [
            "100%|██████████| 53/53 [00:14<00:00,  3.70it/s]\n"
          ]
        },
        {
          "name": "stdout",
          "output_type": "stream",
          "text": [
            "Epoch 14/15 | Train Loss: 0.5260 | Val Loss: 0.5386 | Val Acc: 80.71%\n",
            "Validation loss improved: -0.5386 → 0.5386. Saving model...\n"
          ]
        },
        {
          "name": "stderr",
          "output_type": "stream",
          "text": [
            "100%|██████████| 53/53 [00:14<00:00,  3.65it/s]\n"
          ]
        },
        {
          "name": "stdout",
          "output_type": "stream",
          "text": [
            "Epoch 15/15 | Train Loss: 0.4869 | Val Loss: 0.5632 | Val Acc: 84.52%\n",
            "=== Training Fold 4/5 ===\n"
          ]
        },
        {
          "name": "stderr",
          "output_type": "stream",
          "text": [
            "100%|██████████| 53/53 [00:14<00:00,  3.69it/s]\n"
          ]
        },
        {
          "name": "stdout",
          "output_type": "stream",
          "text": [
            "Epoch 1/15 | Train Loss: 2.3893 | Val Loss: 2.0496 | Val Acc: 38.81%\n",
            "Validation loss improved: -2.0496 → 2.0496. Saving model...\n"
          ]
        },
        {
          "name": "stderr",
          "output_type": "stream",
          "text": [
            "100%|██████████| 53/53 [00:14<00:00,  3.58it/s]\n"
          ]
        },
        {
          "name": "stdout",
          "output_type": "stream",
          "text": [
            "Epoch 2/15 | Train Loss: 1.7574 | Val Loss: 1.6142 | Val Acc: 54.76%\n",
            "Validation loss improved: -1.6142 → 1.6142. Saving model...\n"
          ]
        },
        {
          "name": "stderr",
          "output_type": "stream",
          "text": [
            "100%|██████████| 53/53 [00:14<00:00,  3.69it/s]\n"
          ]
        },
        {
          "name": "stdout",
          "output_type": "stream",
          "text": [
            "Epoch 3/15 | Train Loss: 1.4586 | Val Loss: 1.4497 | Val Acc: 58.33%\n",
            "Validation loss improved: -1.4497 → 1.4497. Saving model...\n"
          ]
        },
        {
          "name": "stderr",
          "output_type": "stream",
          "text": [
            "100%|██████████| 53/53 [00:14<00:00,  3.71it/s]\n"
          ]
        },
        {
          "name": "stdout",
          "output_type": "stream",
          "text": [
            "Epoch 4/15 | Train Loss: 1.2058 | Val Loss: 1.2230 | Val Acc: 62.38%\n",
            "Validation loss improved: -1.2230 → 1.2230. Saving model...\n"
          ]
        },
        {
          "name": "stderr",
          "output_type": "stream",
          "text": [
            "100%|██████████| 53/53 [00:14<00:00,  3.75it/s]\n"
          ]
        },
        {
          "name": "stdout",
          "output_type": "stream",
          "text": [
            "Epoch 5/15 | Train Loss: 1.0890 | Val Loss: 1.1648 | Val Acc: 67.62%\n",
            "Validation loss improved: -1.1648 → 1.1648. Saving model...\n"
          ]
        },
        {
          "name": "stderr",
          "output_type": "stream",
          "text": [
            "100%|██████████| 53/53 [00:15<00:00,  3.50it/s]\n"
          ]
        },
        {
          "name": "stdout",
          "output_type": "stream",
          "text": [
            "Epoch 6/15 | Train Loss: 0.9606 | Val Loss: 1.1561 | Val Acc: 66.90%\n",
            "Validation loss improved: -1.1561 → 1.1561. Saving model...\n"
          ]
        },
        {
          "name": "stderr",
          "output_type": "stream",
          "text": [
            "100%|██████████| 53/53 [00:14<00:00,  3.71it/s]\n"
          ]
        },
        {
          "name": "stdout",
          "output_type": "stream",
          "text": [
            "Epoch 7/15 | Train Loss: 0.8536 | Val Loss: 1.0440 | Val Acc: 68.57%\n",
            "Validation loss improved: -1.0440 → 1.0440. Saving model...\n"
          ]
        },
        {
          "name": "stderr",
          "output_type": "stream",
          "text": [
            "100%|██████████| 53/53 [00:14<00:00,  3.71it/s]\n"
          ]
        },
        {
          "name": "stdout",
          "output_type": "stream",
          "text": [
            "Epoch 8/15 | Train Loss: 0.7513 | Val Loss: 0.9148 | Val Acc: 72.62%\n",
            "Validation loss improved: -0.9148 → 0.9148. Saving model...\n"
          ]
        },
        {
          "name": "stderr",
          "output_type": "stream",
          "text": [
            "100%|██████████| 53/53 [00:14<00:00,  3.75it/s]\n"
          ]
        },
        {
          "name": "stdout",
          "output_type": "stream",
          "text": [
            "Epoch 9/15 | Train Loss: 0.6775 | Val Loss: 0.9195 | Val Acc: 73.10%\n"
          ]
        },
        {
          "name": "stderr",
          "output_type": "stream",
          "text": [
            "100%|██████████| 53/53 [00:14<00:00,  3.54it/s]\n"
          ]
        },
        {
          "name": "stdout",
          "output_type": "stream",
          "text": [
            "Epoch 10/15 | Train Loss: 0.6297 | Val Loss: 0.7748 | Val Acc: 75.95%\n",
            "Validation loss improved: -0.7748 → 0.7748. Saving model...\n"
          ]
        },
        {
          "name": "stderr",
          "output_type": "stream",
          "text": [
            "100%|██████████| 53/53 [00:14<00:00,  3.74it/s]\n"
          ]
        },
        {
          "name": "stdout",
          "output_type": "stream",
          "text": [
            "Epoch 11/15 | Train Loss: 0.6293 | Val Loss: 0.7804 | Val Acc: 76.90%\n"
          ]
        },
        {
          "name": "stderr",
          "output_type": "stream",
          "text": [
            "100%|██████████| 53/53 [00:14<00:00,  3.58it/s]\n"
          ]
        },
        {
          "name": "stdout",
          "output_type": "stream",
          "text": [
            "Epoch 12/15 | Train Loss: 0.5788 | Val Loss: 0.8595 | Val Acc: 74.05%\n"
          ]
        },
        {
          "name": "stderr",
          "output_type": "stream",
          "text": [
            "100%|██████████| 53/53 [00:14<00:00,  3.73it/s]\n"
          ]
        },
        {
          "name": "stdout",
          "output_type": "stream",
          "text": [
            "Epoch 13/15 | Train Loss: 0.5217 | Val Loss: 0.7169 | Val Acc: 75.00%\n",
            "Validation loss improved: -0.7169 → 0.7169. Saving model...\n"
          ]
        },
        {
          "name": "stderr",
          "output_type": "stream",
          "text": [
            "100%|██████████| 53/53 [00:16<00:00,  3.15it/s]\n"
          ]
        },
        {
          "name": "stdout",
          "output_type": "stream",
          "text": [
            "Epoch 14/15 | Train Loss: 0.4682 | Val Loss: 0.7088 | Val Acc: 78.10%\n",
            "Validation loss improved: -0.7088 → 0.7088. Saving model...\n"
          ]
        },
        {
          "name": "stderr",
          "output_type": "stream",
          "text": [
            "100%|██████████| 53/53 [00:14<00:00,  3.69it/s]\n"
          ]
        },
        {
          "name": "stdout",
          "output_type": "stream",
          "text": [
            "Epoch 15/15 | Train Loss: 0.4328 | Val Loss: 0.7945 | Val Acc: 78.10%\n",
            "=== Training Fold 5/5 ===\n"
          ]
        },
        {
          "name": "stderr",
          "output_type": "stream",
          "text": [
            "100%|██████████| 53/53 [00:14<00:00,  3.76it/s]\n"
          ]
        },
        {
          "name": "stdout",
          "output_type": "stream",
          "text": [
            "Epoch 1/15 | Train Loss: 2.4146 | Val Loss: 2.0391 | Val Acc: 35.95%\n",
            "Validation loss improved: -2.0391 → 2.0391. Saving model...\n"
          ]
        },
        {
          "name": "stderr",
          "output_type": "stream",
          "text": [
            "100%|██████████| 53/53 [00:14<00:00,  3.72it/s]\n"
          ]
        },
        {
          "name": "stdout",
          "output_type": "stream",
          "text": [
            "Epoch 2/15 | Train Loss: 1.8634 | Val Loss: 1.6196 | Val Acc: 56.43%\n",
            "Validation loss improved: -1.6196 → 1.6196. Saving model...\n"
          ]
        },
        {
          "name": "stderr",
          "output_type": "stream",
          "text": [
            "100%|██████████| 53/53 [00:14<00:00,  3.66it/s]\n"
          ]
        },
        {
          "name": "stdout",
          "output_type": "stream",
          "text": [
            "Epoch 3/15 | Train Loss: 1.5334 | Val Loss: 1.5501 | Val Acc: 60.24%\n",
            "Validation loss improved: -1.5501 → 1.5501. Saving model...\n"
          ]
        },
        {
          "name": "stderr",
          "output_type": "stream",
          "text": [
            "100%|██████████| 53/53 [00:14<00:00,  3.67it/s]\n"
          ]
        },
        {
          "name": "stdout",
          "output_type": "stream",
          "text": [
            "Epoch 4/15 | Train Loss: 1.3706 | Val Loss: 1.1651 | Val Acc: 69.76%\n",
            "Validation loss improved: -1.1651 → 1.1651. Saving model...\n"
          ]
        },
        {
          "name": "stderr",
          "output_type": "stream",
          "text": [
            "100%|██████████| 53/53 [00:14<00:00,  3.73it/s]\n"
          ]
        },
        {
          "name": "stdout",
          "output_type": "stream",
          "text": [
            "Epoch 5/15 | Train Loss: 1.1717 | Val Loss: 0.9592 | Val Acc: 73.57%\n",
            "Validation loss improved: -0.9592 → 0.9592. Saving model...\n"
          ]
        },
        {
          "name": "stderr",
          "output_type": "stream",
          "text": [
            "100%|██████████| 53/53 [00:14<00:00,  3.62it/s]\n"
          ]
        },
        {
          "name": "stdout",
          "output_type": "stream",
          "text": [
            "Epoch 6/15 | Train Loss: 1.0000 | Val Loss: 0.9131 | Val Acc: 75.71%\n",
            "Validation loss improved: -0.9131 → 0.9131. Saving model...\n"
          ]
        },
        {
          "name": "stderr",
          "output_type": "stream",
          "text": [
            " 25%|██▍       | 13/53 [00:03<00:10,  3.78it/s]"
          ]
        }
      ],
      "source": [
        "# Train Own Model\n",
        "def TrainOwnCnn(FoldLoaders, NumEpochs):\n",
        "  AllTrainLosses = []\n",
        "  AllValLosses = []\n",
        "  AllValAccs = []\n",
        "\n",
        "  ClassCounts = np.bincount(Labelarray)\n",
        "  ClassWeights = 1. / torch.tensor(ClassCounts + 1e-6, dtype=torch.float).to(device)\n",
        "  Criterion = nn.CrossEntropyLoss(weight=ClassWeights)\n",
        "\n",
        "  for Fold, FoldData in enumerate(FoldLoaders):\n",
        "    print(f\"=== Training Fold {Fold+1}/{len(FoldLoaders)} ===\")\n",
        "\n",
        "    Model = LandCNN(NumClasses=len(Dataset.classes)).to(device)\n",
        "    Optimizer = AdamW(params=Model.parameters(), lr=3e-4, weight_decay=0.05, betas=(0.9, 0.999))\n",
        "    Scheduler = CosineAnnealingWarmRestarts(Optimizer, T_0=20, T_mult=2)\n",
        "    Scaler = torch.amp.GradScaler(enabled=(device.type == 'cuda'))\n",
        "    EarlyStopper = EarlyStopping(Patience=7)\n",
        "\n",
        "    TrainLosses = []\n",
        "    ValLosses = []\n",
        "    ValAccs = []\n",
        "\n",
        "    for Epoch in range(NumEpochs):\n",
        "      # === Training Phase ===\n",
        "      Model.train()\n",
        "      TrainLoss = 0.0\n",
        "      for Batch in tqdm(FoldData['Train']):\n",
        "        Inputs, Labels = Batch[0].to(device), Batch[1].to(device)\n",
        "        Optimizer.zero_grad()\n",
        "        with torch.amp.autocast(device_type='cuda', enabled=(device.type == 'cuda')):\n",
        "          Outputs = Model(Inputs)\n",
        "          Loss = Criterion(Outputs, Labels)\n",
        "          Scaler.scale(Loss).backward()\n",
        "          Scaler.step(Optimizer)\n",
        "          Scaler.update()\n",
        "          TrainLoss += Loss.item()\n",
        "\n",
        "      # === Verification Phase ===\n",
        "      ValLoss, ValAcc = EvalStep(Model, FoldData['Test'], Criterion)\n",
        "      AvgTrainLoss = TrainLoss / len(FoldData['Train'])\n",
        "      TrainLosses.append(AvgTrainLoss)\n",
        "      ValLosses.append(ValLoss)\n",
        "      ValAccs.append(ValAcc)\n",
        "\n",
        "      print(f\"Epoch {Epoch+1}/{NumEpochs} | \"\n",
        "         f\"Train Loss: {AvgTrainLoss:.4f} | \"\n",
        "         f\"Val Loss: {ValLoss:.4f} | \"\n",
        "         f\"Val Acc: {ValAcc:.2%}\")\n",
        "\n",
        "      # Early Stopping\n",
        "      EarlyStopper(ValLoss, Model)\n",
        "      if EarlyStopper.EarlyStop:\n",
        "        print(f\"Early stopping triggered at epoch {Epoch+1}\")\n",
        "        break\n",
        "\n",
        "    torch.save(Model.state_dict(), f'LandCNN_Fold{Fold+1}_Best.pth')\n",
        "    AllTrainLosses.append(TrainLosses)\n",
        "    AllValLosses.append(ValLosses)\n",
        "    AllValAccs.append(ValAccs)\n",
        "\n",
        "  MeanTrainLosses = np.mean(np.array(AllTrainLosses), axis=0)\n",
        "  MeanValLosses = np.mean(np.array(AllValLosses), axis=0)\n",
        "  MeanValAccs = np.mean(np.array(AllValAccs), axis=0)\n",
        "\n",
        "  plt.figure(figsize=(12, 4))\n",
        "  plt.subplot(1, 2, 1)\n",
        "  plt.plot(MeanTrainLosses, label='Mean Train Loss', color='blue')\n",
        "  plt.plot(MeanValLosses, label='Mean Val Loss', color='red')\n",
        "  plt.xlabel('Epoch')\n",
        "  plt.ylabel('Loss')\n",
        "  plt.title('Mean Loss Curve')\n",
        "  plt.legend()\n",
        "  plt.grid(True)\n",
        "  plt.subplot(1, 2, 2)\n",
        "  plt.plot(MeanValAccs, label='Mean Val Accuracy', color='green')\n",
        "  plt.xlabel('Epoch')\n",
        "  plt.ylabel('Accuracy')\n",
        "  plt.title('Mean Accuracy Curve')\n",
        "  plt.legend()\n",
        "  plt.grid(True)\n",
        "  plt.tight_layout()\n",
        "  plt.show()\n",
        "\n",
        "  return MeanTrainLosses, MeanValLosses, MeanValAccs\n",
        "\n",
        "# 运行训练\n",
        "NumEpochs = 15\n",
        "MeanTrainLosses, MeanValLosses, MeanValAccs = TrainOwnCnn(Foldloaders, NumEpochs)\n"
      ]
    },
    {
      "cell_type": "code",
      "execution_count": 17,
      "metadata": {
        "colab": {
          "base_uri": "https://localhost:8080/",
          "height": 1000
        },
        "id": "-dLYxH3SszcF",
        "outputId": "873fb9b8-8c46-4b2f-c21b-9c7615d2aa8c"
      },
      "outputs": [
        {
          "name": "stdout",
          "output_type": "stream",
          "text": [
            "=== Training EfficientNet from Scratch ===\n",
            "=== Training Fold 1/5 ===\n"
          ]
        },
        {
          "name": "stderr",
          "output_type": "stream",
          "text": [
            "training: 100%|██████████| 53/53 [00:15<00:00,  3.32it/s]\n"
          ]
        },
        {
          "name": "stdout",
          "output_type": "stream",
          "text": [
            "Epoch 1/10 | 3.3253 | Val Loss: 3.4398 | Val Acc: 9.05%\n",
            "Validation loss improved: -3.4398 → 3.4398. Saving model...\n"
          ]
        },
        {
          "name": "stderr",
          "output_type": "stream",
          "text": [
            "training: 100%|██████████| 53/53 [00:15<00:00,  3.34it/s]\n"
          ]
        },
        {
          "name": "stdout",
          "output_type": "stream",
          "text": [
            "Epoch 2/10 | 3.1468 | Val Loss: 3.2571 | Val Acc: 16.90%\n",
            "Validation loss improved: -3.2571 → 3.2571. Saving model...\n"
          ]
        },
        {
          "name": "stderr",
          "output_type": "stream",
          "text": [
            "training: 100%|██████████| 53/53 [00:16<00:00,  3.14it/s]\n"
          ]
        },
        {
          "name": "stdout",
          "output_type": "stream",
          "text": [
            "Epoch 3/10 | 3.0870 | Val Loss: 3.0405 | Val Acc: 20.48%\n",
            "Validation loss improved: -3.0405 → 3.0405. Saving model...\n"
          ]
        },
        {
          "name": "stderr",
          "output_type": "stream",
          "text": [
            "training: 100%|██████████| 53/53 [00:16<00:00,  3.14it/s]\n"
          ]
        },
        {
          "name": "stdout",
          "output_type": "stream",
          "text": [
            "Epoch 4/10 | 2.8541 | Val Loss: 2.7503 | Val Acc: 23.10%\n",
            "Validation loss improved: -2.7503 → 2.7503. Saving model...\n"
          ]
        },
        {
          "name": "stderr",
          "output_type": "stream",
          "text": [
            "training: 100%|██████████| 53/53 [00:15<00:00,  3.38it/s]\n"
          ]
        },
        {
          "name": "stdout",
          "output_type": "stream",
          "text": [
            "Epoch 5/10 | 2.7984 | Val Loss: 2.4765 | Val Acc: 30.95%\n",
            "Validation loss improved: -2.4765 → 2.4765. Saving model...\n"
          ]
        },
        {
          "name": "stderr",
          "output_type": "stream",
          "text": [
            "training: 100%|██████████| 53/53 [00:16<00:00,  3.28it/s]\n"
          ]
        },
        {
          "name": "stdout",
          "output_type": "stream",
          "text": [
            "Epoch 6/10 | 2.6852 | Val Loss: 3.2906 | Val Acc: 32.14%\n"
          ]
        },
        {
          "name": "stderr",
          "output_type": "stream",
          "text": [
            "training: 100%|██████████| 53/53 [00:15<00:00,  3.37it/s]\n"
          ]
        },
        {
          "name": "stdout",
          "output_type": "stream",
          "text": [
            "Epoch 7/10 | 2.5591 | Val Loss: 2.5536 | Val Acc: 32.14%\n"
          ]
        },
        {
          "name": "stderr",
          "output_type": "stream",
          "text": [
            "training: 100%|██████████| 53/53 [00:16<00:00,  3.17it/s]\n"
          ]
        },
        {
          "name": "stdout",
          "output_type": "stream",
          "text": [
            "Epoch 8/10 | 2.5279 | Val Loss: 2.1394 | Val Acc: 36.90%\n",
            "Validation loss improved: -2.1394 → 2.1394. Saving model...\n"
          ]
        },
        {
          "name": "stderr",
          "output_type": "stream",
          "text": [
            "training: 100%|██████████| 53/53 [00:15<00:00,  3.32it/s]\n"
          ]
        },
        {
          "name": "stdout",
          "output_type": "stream",
          "text": [
            "Epoch 9/10 | 2.4524 | Val Loss: 2.0761 | Val Acc: 38.33%\n",
            "Validation loss improved: -2.0761 → 2.0761. Saving model...\n"
          ]
        },
        {
          "name": "stderr",
          "output_type": "stream",
          "text": [
            "training: 100%|██████████| 53/53 [00:16<00:00,  3.30it/s]\n"
          ]
        },
        {
          "name": "stdout",
          "output_type": "stream",
          "text": [
            "Epoch 10/10 | 2.3697 | Val Loss: 2.2712 | Val Acc: 38.57%\n",
            "=== Training Fold 2/5 ===\n"
          ]
        },
        {
          "name": "stderr",
          "output_type": "stream",
          "text": [
            "training: 100%|██████████| 53/53 [00:16<00:00,  3.20it/s]\n"
          ]
        },
        {
          "name": "stdout",
          "output_type": "stream",
          "text": [
            "Epoch 1/10 | 3.3309 | Val Loss: 2.9947 | Val Acc: 7.62%\n",
            "Validation loss improved: -2.9947 → 2.9947. Saving model...\n"
          ]
        },
        {
          "name": "stderr",
          "output_type": "stream",
          "text": [
            "training: 100%|██████████| 53/53 [00:15<00:00,  3.36it/s]\n"
          ]
        },
        {
          "name": "stdout",
          "output_type": "stream",
          "text": [
            "Epoch 2/10 | 3.2022 | Val Loss: 2.9198 | Val Acc: 11.19%\n",
            "Validation loss improved: -2.9198 → 2.9198. Saving model...\n"
          ]
        },
        {
          "name": "stderr",
          "output_type": "stream",
          "text": [
            "training: 100%|██████████| 53/53 [00:16<00:00,  3.27it/s]\n"
          ]
        },
        {
          "name": "stdout",
          "output_type": "stream",
          "text": [
            "Epoch 3/10 | 3.0422 | Val Loss: 2.7127 | Val Acc: 17.62%\n",
            "Validation loss improved: -2.7127 → 2.7127. Saving model...\n"
          ]
        },
        {
          "name": "stderr",
          "output_type": "stream",
          "text": [
            "training: 100%|██████████| 53/53 [00:15<00:00,  3.35it/s]\n"
          ]
        },
        {
          "name": "stdout",
          "output_type": "stream",
          "text": [
            "Epoch 4/10 | 2.9570 | Val Loss: 3.2520 | Val Acc: 20.00%\n"
          ]
        },
        {
          "name": "stderr",
          "output_type": "stream",
          "text": [
            "training: 100%|██████████| 53/53 [00:15<00:00,  3.32it/s]\n"
          ]
        },
        {
          "name": "stdout",
          "output_type": "stream",
          "text": [
            "Epoch 5/10 | 2.9626 | Val Loss: 2.5373 | Val Acc: 20.24%\n",
            "Validation loss improved: -2.5373 → 2.5373. Saving model...\n"
          ]
        },
        {
          "name": "stderr",
          "output_type": "stream",
          "text": [
            "training: 100%|██████████| 53/53 [00:16<00:00,  3.14it/s]\n"
          ]
        },
        {
          "name": "stdout",
          "output_type": "stream",
          "text": [
            "Epoch 6/10 | 2.7657 | Val Loss: 2.5427 | Val Acc: 22.14%\n"
          ]
        },
        {
          "name": "stderr",
          "output_type": "stream",
          "text": [
            "training: 100%|██████████| 53/53 [00:15<00:00,  3.37it/s]\n"
          ]
        },
        {
          "name": "stdout",
          "output_type": "stream",
          "text": [
            "Epoch 7/10 | 2.7513 | Val Loss: 2.4350 | Val Acc: 26.19%\n",
            "Validation loss improved: -2.4350 → 2.4350. Saving model...\n"
          ]
        },
        {
          "name": "stderr",
          "output_type": "stream",
          "text": [
            "training: 100%|██████████| 53/53 [00:16<00:00,  3.28it/s]\n"
          ]
        },
        {
          "name": "stdout",
          "output_type": "stream",
          "text": [
            "Epoch 8/10 | 2.6423 | Val Loss: 2.6024 | Val Acc: 25.00%\n"
          ]
        },
        {
          "name": "stderr",
          "output_type": "stream",
          "text": [
            "training: 100%|██████████| 53/53 [00:15<00:00,  3.35it/s]\n"
          ]
        },
        {
          "name": "stdout",
          "output_type": "stream",
          "text": [
            "Epoch 9/10 | 2.5932 | Val Loss: 2.3699 | Val Acc: 26.90%\n",
            "Validation loss improved: -2.3699 → 2.3699. Saving model...\n"
          ]
        },
        {
          "name": "stderr",
          "output_type": "stream",
          "text": [
            "training: 100%|██████████| 53/53 [00:16<00:00,  3.29it/s]\n"
          ]
        },
        {
          "name": "stdout",
          "output_type": "stream",
          "text": [
            "Epoch 10/10 | 2.5307 | Val Loss: 2.1798 | Val Acc: 28.10%\n",
            "Validation loss improved: -2.1798 → 2.1798. Saving model...\n",
            "=== Training Fold 3/5 ===\n"
          ]
        },
        {
          "name": "stderr",
          "output_type": "stream",
          "text": [
            "training: 100%|██████████| 53/53 [00:17<00:00,  2.99it/s]\n"
          ]
        },
        {
          "name": "stdout",
          "output_type": "stream",
          "text": [
            "Epoch 1/10 | 3.2717 | Val Loss: 3.6133 | Val Acc: 6.43%\n",
            "Validation loss improved: -3.6133 → 3.6133. Saving model...\n"
          ]
        },
        {
          "name": "stderr",
          "output_type": "stream",
          "text": [
            "training: 100%|██████████| 53/53 [00:15<00:00,  3.32it/s]\n"
          ]
        },
        {
          "name": "stdout",
          "output_type": "stream",
          "text": [
            "Epoch 2/10 | 3.0884 | Val Loss: 3.1079 | Val Acc: 11.90%\n",
            "Validation loss improved: -3.1079 → 3.1079. Saving model...\n"
          ]
        },
        {
          "name": "stderr",
          "output_type": "stream",
          "text": [
            "training: 100%|██████████| 53/53 [00:15<00:00,  3.32it/s]\n"
          ]
        },
        {
          "name": "stdout",
          "output_type": "stream",
          "text": [
            "Epoch 3/10 | 3.0262 | Val Loss: 2.7610 | Val Acc: 20.95%\n",
            "Validation loss improved: -2.7610 → 2.7610. Saving model...\n"
          ]
        },
        {
          "name": "stderr",
          "output_type": "stream",
          "text": [
            "training: 100%|██████████| 53/53 [00:16<00:00,  3.22it/s]\n"
          ]
        },
        {
          "name": "stdout",
          "output_type": "stream",
          "text": [
            "Epoch 4/10 | 2.8550 | Val Loss: 2.7587 | Val Acc: 21.67%\n",
            "Validation loss improved: -2.7587 → 2.7587. Saving model...\n"
          ]
        },
        {
          "name": "stderr",
          "output_type": "stream",
          "text": [
            "training: 100%|██████████| 53/53 [00:16<00:00,  3.31it/s]\n"
          ]
        },
        {
          "name": "stdout",
          "output_type": "stream",
          "text": [
            "Epoch 5/10 | 2.7916 | Val Loss: 2.8610 | Val Acc: 28.33%\n"
          ]
        },
        {
          "name": "stderr",
          "output_type": "stream",
          "text": [
            "training: 100%|██████████| 53/53 [00:16<00:00,  3.21it/s]\n"
          ]
        },
        {
          "name": "stdout",
          "output_type": "stream",
          "text": [
            "Epoch 6/10 | 2.6993 | Val Loss: 2.3952 | Val Acc: 29.76%\n",
            "Validation loss improved: -2.3952 → 2.3952. Saving model...\n"
          ]
        },
        {
          "name": "stderr",
          "output_type": "stream",
          "text": [
            "training: 100%|██████████| 53/53 [00:15<00:00,  3.33it/s]\n"
          ]
        },
        {
          "name": "stdout",
          "output_type": "stream",
          "text": [
            "Epoch 7/10 | 2.5919 | Val Loss: 3.1802 | Val Acc: 31.19%\n"
          ]
        },
        {
          "name": "stderr",
          "output_type": "stream",
          "text": [
            "training: 100%|██████████| 53/53 [00:15<00:00,  3.32it/s]\n"
          ]
        },
        {
          "name": "stdout",
          "output_type": "stream",
          "text": [
            "Epoch 8/10 | 2.5197 | Val Loss: 2.8913 | Val Acc: 32.62%\n"
          ]
        },
        {
          "name": "stderr",
          "output_type": "stream",
          "text": [
            "training: 100%|██████████| 53/53 [00:16<00:00,  3.14it/s]\n"
          ]
        },
        {
          "name": "stdout",
          "output_type": "stream",
          "text": [
            "Epoch 9/10 | 2.4845 | Val Loss: 2.2498 | Val Acc: 34.05%\n",
            "Validation loss improved: -2.2498 → 2.2498. Saving model...\n"
          ]
        },
        {
          "name": "stderr",
          "output_type": "stream",
          "text": [
            "training: 100%|██████████| 53/53 [00:15<00:00,  3.32it/s]\n"
          ]
        },
        {
          "name": "stdout",
          "output_type": "stream",
          "text": [
            "Epoch 10/10 | 2.3953 | Val Loss: 2.4402 | Val Acc: 37.62%\n",
            "=== Training Fold 4/5 ===\n"
          ]
        },
        {
          "name": "stderr",
          "output_type": "stream",
          "text": [
            "training: 100%|██████████| 53/53 [00:16<00:00,  3.19it/s]\n"
          ]
        },
        {
          "name": "stdout",
          "output_type": "stream",
          "text": [
            "Epoch 1/10 | 3.3969 | Val Loss: 2.9570 | Val Acc: 5.48%\n",
            "Validation loss improved: -2.9570 → 2.9570. Saving model...\n"
          ]
        },
        {
          "name": "stderr",
          "output_type": "stream",
          "text": [
            "training: 100%|██████████| 53/53 [00:16<00:00,  3.28it/s]\n"
          ]
        },
        {
          "name": "stdout",
          "output_type": "stream",
          "text": [
            "Epoch 2/10 | 3.1568 | Val Loss: 2.9150 | Val Acc: 12.86%\n",
            "Validation loss improved: -2.9150 → 2.9150. Saving model...\n"
          ]
        },
        {
          "name": "stderr",
          "output_type": "stream",
          "text": [
            "training: 100%|██████████| 53/53 [00:16<00:00,  3.29it/s]\n"
          ]
        },
        {
          "name": "stdout",
          "output_type": "stream",
          "text": [
            "Epoch 3/10 | 3.1055 | Val Loss: 2.7976 | Val Acc: 15.95%\n",
            "Validation loss improved: -2.7976 → 2.7976. Saving model...\n"
          ]
        },
        {
          "name": "stderr",
          "output_type": "stream",
          "text": [
            "training: 100%|██████████| 53/53 [00:16<00:00,  3.14it/s]\n"
          ]
        },
        {
          "name": "stdout",
          "output_type": "stream",
          "text": [
            "Epoch 4/10 | 3.0828 | Val Loss: 2.7118 | Val Acc: 17.38%\n",
            "Validation loss improved: -2.7118 → 2.7118. Saving model...\n"
          ]
        },
        {
          "name": "stderr",
          "output_type": "stream",
          "text": [
            "training: 100%|██████████| 53/53 [00:15<00:00,  3.31it/s]\n"
          ]
        },
        {
          "name": "stdout",
          "output_type": "stream",
          "text": [
            "Epoch 5/10 | 2.8534 | Val Loss: 2.5602 | Val Acc: 26.67%\n",
            "Validation loss improved: -2.5602 → 2.5602. Saving model...\n"
          ]
        },
        {
          "name": "stderr",
          "output_type": "stream",
          "text": [
            "training: 100%|██████████| 53/53 [00:16<00:00,  3.20it/s]\n"
          ]
        },
        {
          "name": "stdout",
          "output_type": "stream",
          "text": [
            "Epoch 6/10 | 2.8077 | Val Loss: 2.4057 | Val Acc: 25.24%\n",
            "Validation loss improved: -2.4057 → 2.4057. Saving model...\n"
          ]
        },
        {
          "name": "stderr",
          "output_type": "stream",
          "text": [
            "training: 100%|██████████| 53/53 [00:16<00:00,  3.14it/s]\n"
          ]
        },
        {
          "name": "stdout",
          "output_type": "stream",
          "text": [
            "Epoch 7/10 | 2.6525 | Val Loss: 2.2611 | Val Acc: 28.81%\n",
            "Validation loss improved: -2.2611 → 2.2611. Saving model...\n"
          ]
        },
        {
          "name": "stderr",
          "output_type": "stream",
          "text": [
            "training: 100%|██████████| 53/53 [00:15<00:00,  3.34it/s]\n"
          ]
        },
        {
          "name": "stdout",
          "output_type": "stream",
          "text": [
            "Epoch 8/10 | 2.5556 | Val Loss: 2.1849 | Val Acc: 31.43%\n",
            "Validation loss improved: -2.1849 → 2.1849. Saving model...\n"
          ]
        },
        {
          "name": "stderr",
          "output_type": "stream",
          "text": [
            "training: 100%|██████████| 53/53 [00:16<00:00,  3.24it/s]\n"
          ]
        },
        {
          "name": "stdout",
          "output_type": "stream",
          "text": [
            "Epoch 9/10 | 2.4825 | Val Loss: 2.1205 | Val Acc: 37.62%\n",
            "Validation loss improved: -2.1205 → 2.1205. Saving model...\n"
          ]
        },
        {
          "name": "stderr",
          "output_type": "stream",
          "text": [
            "training: 100%|██████████| 53/53 [00:15<00:00,  3.36it/s]\n"
          ]
        },
        {
          "name": "stdout",
          "output_type": "stream",
          "text": [
            "Epoch 10/10 | 2.4311 | Val Loss: 2.1866 | Val Acc: 36.19%\n",
            "=== Training Fold 5/5 ===\n"
          ]
        },
        {
          "name": "stderr",
          "output_type": "stream",
          "text": [
            "training: 100%|██████████| 53/53 [00:16<00:00,  3.17it/s]\n"
          ]
        },
        {
          "name": "stdout",
          "output_type": "stream",
          "text": [
            "Epoch 1/10 | 3.3597 | Val Loss: 3.3725 | Val Acc: 12.14%\n",
            "Validation loss improved: -3.3725 → 3.3725. Saving model...\n"
          ]
        },
        {
          "name": "stderr",
          "output_type": "stream",
          "text": [
            "training: 100%|██████████| 53/53 [00:16<00:00,  3.28it/s]\n"
          ]
        },
        {
          "name": "stdout",
          "output_type": "stream",
          "text": [
            "Epoch 2/10 | 3.1333 | Val Loss: 3.0204 | Val Acc: 13.33%\n",
            "Validation loss improved: -3.0204 → 3.0204. Saving model...\n"
          ]
        },
        {
          "name": "stderr",
          "output_type": "stream",
          "text": [
            "training: 100%|██████████| 53/53 [00:16<00:00,  3.30it/s]\n"
          ]
        },
        {
          "name": "stdout",
          "output_type": "stream",
          "text": [
            "Epoch 3/10 | 3.0454 | Val Loss: 3.0320 | Val Acc: 16.67%\n"
          ]
        },
        {
          "name": "stderr",
          "output_type": "stream",
          "text": [
            "training: 100%|██████████| 53/53 [00:16<00:00,  3.19it/s]\n"
          ]
        },
        {
          "name": "stdout",
          "output_type": "stream",
          "text": [
            "Epoch 4/10 | 2.9271 | Val Loss: 2.7993 | Val Acc: 20.24%\n",
            "Validation loss improved: -2.7993 → 2.7993. Saving model...\n"
          ]
        },
        {
          "name": "stderr",
          "output_type": "stream",
          "text": [
            "training: 100%|██████████| 53/53 [00:15<00:00,  3.33it/s]\n"
          ]
        },
        {
          "name": "stdout",
          "output_type": "stream",
          "text": [
            "Epoch 5/10 | 2.8564 | Val Loss: 2.7707 | Val Acc: 20.00%\n",
            "Validation loss improved: -2.7707 → 2.7707. Saving model...\n"
          ]
        },
        {
          "name": "stderr",
          "output_type": "stream",
          "text": [
            "training: 100%|██████████| 53/53 [00:17<00:00,  3.12it/s]\n"
          ]
        },
        {
          "name": "stdout",
          "output_type": "stream",
          "text": [
            "Epoch 6/10 | 2.7821 | Val Loss: 2.5508 | Val Acc: 23.81%\n",
            "Validation loss improved: -2.5508 → 2.5508. Saving model...\n"
          ]
        },
        {
          "name": "stderr",
          "output_type": "stream",
          "text": [
            "training: 100%|██████████| 53/53 [00:16<00:00,  3.27it/s]\n"
          ]
        },
        {
          "name": "stdout",
          "output_type": "stream",
          "text": [
            "Epoch 7/10 | 2.6333 | Val Loss: 2.5225 | Val Acc: 25.95%\n",
            "Validation loss improved: -2.5225 → 2.5225. Saving model...\n"
          ]
        },
        {
          "name": "stderr",
          "output_type": "stream",
          "text": [
            "training: 100%|██████████| 53/53 [00:15<00:00,  3.33it/s]\n"
          ]
        },
        {
          "name": "stdout",
          "output_type": "stream",
          "text": [
            "Epoch 8/10 | 2.5492 | Val Loss: 2.5571 | Val Acc: 30.24%\n"
          ]
        },
        {
          "name": "stderr",
          "output_type": "stream",
          "text": [
            "training: 100%|██████████| 53/53 [00:16<00:00,  3.18it/s]\n"
          ]
        },
        {
          "name": "stdout",
          "output_type": "stream",
          "text": [
            "Epoch 9/10 | 2.5145 | Val Loss: 2.4625 | Val Acc: 31.67%\n",
            "Validation loss improved: -2.4625 → 2.4625. Saving model...\n"
          ]
        },
        {
          "name": "stderr",
          "output_type": "stream",
          "text": [
            "training: 100%|██████████| 53/53 [00:15<00:00,  3.34it/s]\n"
          ]
        },
        {
          "name": "stdout",
          "output_type": "stream",
          "text": [
            "Epoch 10/10 | 2.5345 | Val Loss: 2.5256 | Val Acc: 30.71%\n",
            "=== Fine-tuning EfficientNet ===\n",
            "=== Training Fold 1/5 ===\n"
          ]
        },
        {
          "name": "stderr",
          "output_type": "stream",
          "text": [
            "training: 100%|██████████| 53/53 [00:16<00:00,  3.15it/s]\n"
          ]
        },
        {
          "name": "stdout",
          "output_type": "stream",
          "text": [
            "Epoch 1/10 | 2.8083 | Val Loss: 1.3430 | Val Acc: 60.71%\n",
            "Validation loss improved: -1.3430 → 1.3430. Saving model...\n"
          ]
        },
        {
          "name": "stderr",
          "output_type": "stream",
          "text": [
            "training: 100%|██████████| 53/53 [00:15<00:00,  3.35it/s]\n"
          ]
        },
        {
          "name": "stdout",
          "output_type": "stream",
          "text": [
            "Epoch 2/10 | 1.0501 | Val Loss: 0.5486 | Val Acc: 81.90%\n",
            "Validation loss improved: -0.5486 → 0.5486. Saving model...\n"
          ]
        },
        {
          "name": "stderr",
          "output_type": "stream",
          "text": [
            "training: 100%|██████████| 53/53 [00:17<00:00,  3.11it/s]\n"
          ]
        },
        {
          "name": "stdout",
          "output_type": "stream",
          "text": [
            "Epoch 3/10 | 0.5699 | Val Loss: 0.3219 | Val Acc: 88.57%\n",
            "Validation loss improved: -0.3219 → 0.3219. Saving model...\n"
          ]
        },
        {
          "name": "stderr",
          "output_type": "stream",
          "text": [
            "training: 100%|██████████| 53/53 [00:16<00:00,  3.29it/s]\n"
          ]
        },
        {
          "name": "stdout",
          "output_type": "stream",
          "text": [
            "Epoch 4/10 | 0.3615 | Val Loss: 0.2049 | Val Acc: 92.14%\n",
            "Validation loss improved: -0.2049 → 0.2049. Saving model...\n"
          ]
        },
        {
          "name": "stderr",
          "output_type": "stream",
          "text": [
            "training: 100%|██████████| 53/53 [00:16<00:00,  3.30it/s]\n"
          ]
        },
        {
          "name": "stdout",
          "output_type": "stream",
          "text": [
            "Epoch 5/10 | 0.2410 | Val Loss: 0.1526 | Val Acc: 94.52%\n",
            "Validation loss improved: -0.1526 → 0.1526. Saving model...\n"
          ]
        },
        {
          "name": "stderr",
          "output_type": "stream",
          "text": [
            "training: 100%|██████████| 53/53 [00:16<00:00,  3.14it/s]\n"
          ]
        },
        {
          "name": "stdout",
          "output_type": "stream",
          "text": [
            "Epoch 6/10 | 0.2057 | Val Loss: 0.1284 | Val Acc: 94.76%\n",
            "Validation loss improved: -0.1284 → 0.1284. Saving model...\n"
          ]
        },
        {
          "name": "stderr",
          "output_type": "stream",
          "text": [
            "training: 100%|██████████| 53/53 [00:16<00:00,  3.25it/s]\n"
          ]
        },
        {
          "name": "stdout",
          "output_type": "stream",
          "text": [
            "Epoch 7/10 | 0.1839 | Val Loss: 0.0908 | Val Acc: 97.38%\n",
            "Validation loss improved: -0.0908 → 0.0908. Saving model...\n"
          ]
        },
        {
          "name": "stderr",
          "output_type": "stream",
          "text": [
            "training: 100%|██████████| 53/53 [00:16<00:00,  3.27it/s]\n"
          ]
        },
        {
          "name": "stdout",
          "output_type": "stream",
          "text": [
            "Epoch 8/10 | 0.1542 | Val Loss: 0.0910 | Val Acc: 96.43%\n"
          ]
        },
        {
          "name": "stderr",
          "output_type": "stream",
          "text": [
            "training: 100%|██████████| 53/53 [00:16<00:00,  3.28it/s]\n"
          ]
        },
        {
          "name": "stdout",
          "output_type": "stream",
          "text": [
            "Epoch 9/10 | 0.1476 | Val Loss: 0.0797 | Val Acc: 97.62%\n",
            "Validation loss improved: -0.0797 → 0.0797. Saving model...\n"
          ]
        },
        {
          "name": "stderr",
          "output_type": "stream",
          "text": [
            "training: 100%|██████████| 53/53 [00:16<00:00,  3.26it/s]\n"
          ]
        },
        {
          "name": "stdout",
          "output_type": "stream",
          "text": [
            "Epoch 10/10 | 0.1116 | Val Loss: 0.0724 | Val Acc: 98.10%\n",
            "Validation loss improved: -0.0724 → 0.0724. Saving model...\n",
            "=== Training Fold 2/5 ===\n"
          ]
        },
        {
          "name": "stderr",
          "output_type": "stream",
          "text": [
            "training: 100%|██████████| 53/53 [00:17<00:00,  3.08it/s]\n"
          ]
        },
        {
          "name": "stdout",
          "output_type": "stream",
          "text": [
            "Epoch 1/10 | 2.7180 | Val Loss: 1.3009 | Val Acc: 59.76%\n",
            "Validation loss improved: -1.3009 → 1.3009. Saving model...\n"
          ]
        },
        {
          "name": "stderr",
          "output_type": "stream",
          "text": [
            "training: 100%|██████████| 53/53 [00:15<00:00,  3.33it/s]\n"
          ]
        },
        {
          "name": "stdout",
          "output_type": "stream",
          "text": [
            "Epoch 2/10 | 1.0528 | Val Loss: 0.6326 | Val Acc: 79.76%\n",
            "Validation loss improved: -0.6326 → 0.6326. Saving model...\n"
          ]
        },
        {
          "name": "stderr",
          "output_type": "stream",
          "text": [
            "training: 100%|██████████| 53/53 [00:15<00:00,  3.31it/s]\n"
          ]
        },
        {
          "name": "stdout",
          "output_type": "stream",
          "text": [
            "Epoch 3/10 | 0.6203 | Val Loss: 0.3575 | Val Acc: 88.33%\n",
            "Validation loss improved: -0.3575 → 0.3575. Saving model...\n"
          ]
        },
        {
          "name": "stderr",
          "output_type": "stream",
          "text": [
            "training: 100%|██████████| 53/53 [00:15<00:00,  3.32it/s]\n"
          ]
        },
        {
          "name": "stdout",
          "output_type": "stream",
          "text": [
            "Epoch 4/10 | 0.4057 | Val Loss: 0.2442 | Val Acc: 92.14%\n",
            "Validation loss improved: -0.2442 → 0.2442. Saving model...\n"
          ]
        },
        {
          "name": "stderr",
          "output_type": "stream",
          "text": [
            "training: 100%|██████████| 53/53 [00:15<00:00,  3.32it/s]\n"
          ]
        },
        {
          "name": "stdout",
          "output_type": "stream",
          "text": [
            "Epoch 5/10 | 0.2800 | Val Loss: 0.1939 | Val Acc: 94.05%\n",
            "Validation loss improved: -0.1939 → 0.1939. Saving model...\n"
          ]
        },
        {
          "name": "stderr",
          "output_type": "stream",
          "text": [
            "training: 100%|██████████| 53/53 [00:17<00:00,  3.06it/s]\n"
          ]
        },
        {
          "name": "stdout",
          "output_type": "stream",
          "text": [
            "Epoch 6/10 | 0.2371 | Val Loss: 0.1588 | Val Acc: 95.00%\n",
            "Validation loss improved: -0.1588 → 0.1588. Saving model...\n"
          ]
        },
        {
          "name": "stderr",
          "output_type": "stream",
          "text": [
            "training: 100%|██████████| 53/53 [00:16<00:00,  3.22it/s]\n"
          ]
        },
        {
          "name": "stdout",
          "output_type": "stream",
          "text": [
            "Epoch 7/10 | 0.1708 | Val Loss: 0.1579 | Val Acc: 95.00%\n"
          ]
        },
        {
          "name": "stderr",
          "output_type": "stream",
          "text": [
            "training: 100%|██████████| 53/53 [00:16<00:00,  3.22it/s]\n"
          ]
        },
        {
          "name": "stdout",
          "output_type": "stream",
          "text": [
            "Epoch 8/10 | 0.1553 | Val Loss: 0.1311 | Val Acc: 95.95%\n",
            "Validation loss improved: -0.1311 → 0.1311. Saving model...\n"
          ]
        },
        {
          "name": "stderr",
          "output_type": "stream",
          "text": [
            "training: 100%|██████████| 53/53 [00:16<00:00,  3.12it/s]\n"
          ]
        },
        {
          "name": "stdout",
          "output_type": "stream",
          "text": [
            "Epoch 9/10 | 0.1224 | Val Loss: 0.1188 | Val Acc: 96.43%\n",
            "Validation loss improved: -0.1188 → 0.1188. Saving model...\n"
          ]
        },
        {
          "name": "stderr",
          "output_type": "stream",
          "text": [
            "training: 100%|██████████| 53/53 [00:16<00:00,  3.31it/s]\n"
          ]
        },
        {
          "name": "stdout",
          "output_type": "stream",
          "text": [
            "Epoch 10/10 | 0.1054 | Val Loss: 0.1177 | Val Acc: 95.95%\n",
            "Validation loss improved: -0.1177 → 0.1177. Saving model...\n",
            "=== Training Fold 3/5 ===\n"
          ]
        },
        {
          "name": "stderr",
          "output_type": "stream",
          "text": [
            "training: 100%|██████████| 53/53 [00:16<00:00,  3.24it/s]\n"
          ]
        },
        {
          "name": "stdout",
          "output_type": "stream",
          "text": [
            "Epoch 1/10 | 2.7368 | Val Loss: 1.4331 | Val Acc: 55.24%\n",
            "Validation loss improved: -1.4331 → 1.4331. Saving model...\n"
          ]
        },
        {
          "name": "stderr",
          "output_type": "stream",
          "text": [
            "training: 100%|██████████| 53/53 [00:15<00:00,  3.32it/s]\n"
          ]
        },
        {
          "name": "stdout",
          "output_type": "stream",
          "text": [
            "Epoch 2/10 | 1.0696 | Val Loss: 0.6239 | Val Acc: 81.43%\n",
            "Validation loss improved: -0.6239 → 0.6239. Saving model...\n"
          ]
        },
        {
          "name": "stderr",
          "output_type": "stream",
          "text": [
            "training: 100%|██████████| 53/53 [00:16<00:00,  3.16it/s]\n"
          ]
        },
        {
          "name": "stdout",
          "output_type": "stream",
          "text": [
            "Epoch 3/10 | 0.5966 | Val Loss: 0.4283 | Val Acc: 85.24%\n",
            "Validation loss improved: -0.4283 → 0.4283. Saving model...\n"
          ]
        },
        {
          "name": "stderr",
          "output_type": "stream",
          "text": [
            "training: 100%|██████████| 53/53 [00:15<00:00,  3.35it/s]\n"
          ]
        },
        {
          "name": "stdout",
          "output_type": "stream",
          "text": [
            "Epoch 4/10 | 0.3779 | Val Loss: 0.3041 | Val Acc: 88.33%\n",
            "Validation loss improved: -0.3041 → 0.3041. Saving model...\n"
          ]
        },
        {
          "name": "stderr",
          "output_type": "stream",
          "text": [
            "training: 100%|██████████| 53/53 [00:15<00:00,  3.35it/s]\n"
          ]
        },
        {
          "name": "stdout",
          "output_type": "stream",
          "text": [
            "Epoch 5/10 | 0.2854 | Val Loss: 0.2339 | Val Acc: 92.62%\n",
            "Validation loss improved: -0.2339 → 0.2339. Saving model...\n"
          ]
        },
        {
          "name": "stderr",
          "output_type": "stream",
          "text": [
            "training: 100%|██████████| 53/53 [00:16<00:00,  3.18it/s]\n"
          ]
        },
        {
          "name": "stdout",
          "output_type": "stream",
          "text": [
            "Epoch 6/10 | 0.2195 | Val Loss: 0.1996 | Val Acc: 93.57%\n",
            "Validation loss improved: -0.1996 → 0.1996. Saving model...\n"
          ]
        },
        {
          "name": "stderr",
          "output_type": "stream",
          "text": [
            "training: 100%|██████████| 53/53 [00:15<00:00,  3.37it/s]\n"
          ]
        },
        {
          "name": "stdout",
          "output_type": "stream",
          "text": [
            "Epoch 7/10 | 0.1752 | Val Loss: 0.1820 | Val Acc: 93.10%\n",
            "Validation loss improved: -0.1820 → 0.1820. Saving model...\n"
          ]
        },
        {
          "name": "stderr",
          "output_type": "stream",
          "text": [
            "training: 100%|██████████| 53/53 [00:16<00:00,  3.26it/s]\n"
          ]
        },
        {
          "name": "stdout",
          "output_type": "stream",
          "text": [
            "Epoch 8/10 | 0.1464 | Val Loss: 0.1626 | Val Acc: 94.05%\n",
            "Validation loss improved: -0.1626 → 0.1626. Saving model...\n"
          ]
        },
        {
          "name": "stderr",
          "output_type": "stream",
          "text": [
            "training: 100%|██████████| 53/53 [00:15<00:00,  3.34it/s]\n"
          ]
        },
        {
          "name": "stdout",
          "output_type": "stream",
          "text": [
            "Epoch 9/10 | 0.1215 | Val Loss: 0.1358 | Val Acc: 94.76%\n",
            "Validation loss improved: -0.1358 → 0.1358. Saving model...\n"
          ]
        },
        {
          "name": "stderr",
          "output_type": "stream",
          "text": [
            "training: 100%|██████████| 53/53 [00:16<00:00,  3.27it/s]\n"
          ]
        },
        {
          "name": "stdout",
          "output_type": "stream",
          "text": [
            "Epoch 10/10 | 0.1103 | Val Loss: 0.1273 | Val Acc: 95.24%\n",
            "Validation loss improved: -0.1273 → 0.1273. Saving model...\n",
            "=== Training Fold 4/5 ===\n"
          ]
        },
        {
          "name": "stderr",
          "output_type": "stream",
          "text": [
            "training: 100%|██████████| 53/53 [00:16<00:00,  3.21it/s]\n"
          ]
        },
        {
          "name": "stdout",
          "output_type": "stream",
          "text": [
            "Epoch 1/10 | 2.6876 | Val Loss: 1.2079 | Val Acc: 64.76%\n",
            "Validation loss improved: -1.2079 → 1.2079. Saving model...\n"
          ]
        },
        {
          "name": "stderr",
          "output_type": "stream",
          "text": [
            "training: 100%|██████████| 53/53 [00:15<00:00,  3.33it/s]\n"
          ]
        },
        {
          "name": "stdout",
          "output_type": "stream",
          "text": [
            "Epoch 2/10 | 1.0142 | Val Loss: 0.5654 | Val Acc: 83.57%\n",
            "Validation loss improved: -0.5654 → 0.5654. Saving model...\n"
          ]
        },
        {
          "name": "stderr",
          "output_type": "stream",
          "text": [
            "training: 100%|██████████| 53/53 [00:16<00:00,  3.23it/s]\n"
          ]
        },
        {
          "name": "stdout",
          "output_type": "stream",
          "text": [
            "Epoch 3/10 | 0.5273 | Val Loss: 0.3142 | Val Acc: 91.67%\n",
            "Validation loss improved: -0.3142 → 0.3142. Saving model...\n"
          ]
        },
        {
          "name": "stderr",
          "output_type": "stream",
          "text": [
            "training: 100%|██████████| 53/53 [00:15<00:00,  3.34it/s]\n"
          ]
        },
        {
          "name": "stdout",
          "output_type": "stream",
          "text": [
            "Epoch 4/10 | 0.3700 | Val Loss: 0.2320 | Val Acc: 93.57%\n",
            "Validation loss improved: -0.2320 → 0.2320. Saving model...\n"
          ]
        },
        {
          "name": "stderr",
          "output_type": "stream",
          "text": [
            "training: 100%|██████████| 53/53 [00:15<00:00,  3.33it/s]\n"
          ]
        },
        {
          "name": "stdout",
          "output_type": "stream",
          "text": [
            "Epoch 5/10 | 0.2539 | Val Loss: 0.1784 | Val Acc: 96.19%\n",
            "Validation loss improved: -0.1784 → 0.1784. Saving model...\n"
          ]
        },
        {
          "name": "stderr",
          "output_type": "stream",
          "text": [
            "training: 100%|██████████| 53/53 [00:17<00:00,  3.06it/s]\n"
          ]
        },
        {
          "name": "stdout",
          "output_type": "stream",
          "text": [
            "Epoch 6/10 | 0.2307 | Val Loss: 0.1691 | Val Acc: 94.76%\n",
            "Validation loss improved: -0.1691 → 0.1691. Saving model...\n"
          ]
        },
        {
          "name": "stderr",
          "output_type": "stream",
          "text": [
            "training: 100%|██████████| 53/53 [00:15<00:00,  3.33it/s]\n"
          ]
        },
        {
          "name": "stdout",
          "output_type": "stream",
          "text": [
            "Epoch 7/10 | 0.1805 | Val Loss: 0.1505 | Val Acc: 94.76%\n",
            "Validation loss improved: -0.1505 → 0.1505. Saving model...\n"
          ]
        },
        {
          "name": "stderr",
          "output_type": "stream",
          "text": [
            "training: 100%|██████████| 53/53 [00:16<00:00,  3.31it/s]\n"
          ]
        },
        {
          "name": "stdout",
          "output_type": "stream",
          "text": [
            "Epoch 8/10 | 0.1377 | Val Loss: 0.1309 | Val Acc: 96.19%\n",
            "Validation loss improved: -0.1309 → 0.1309. Saving model...\n"
          ]
        },
        {
          "name": "stderr",
          "output_type": "stream",
          "text": [
            "training: 100%|██████████| 53/53 [00:15<00:00,  3.37it/s]\n"
          ]
        },
        {
          "name": "stdout",
          "output_type": "stream",
          "text": [
            "Epoch 9/10 | 0.1103 | Val Loss: 0.1096 | Val Acc: 97.14%\n",
            "Validation loss improved: -0.1096 → 0.1096. Saving model...\n"
          ]
        },
        {
          "name": "stderr",
          "output_type": "stream",
          "text": [
            "training: 100%|██████████| 53/53 [00:15<00:00,  3.33it/s]\n"
          ]
        },
        {
          "name": "stdout",
          "output_type": "stream",
          "text": [
            "Epoch 10/10 | 0.1233 | Val Loss: 0.0976 | Val Acc: 97.14%\n",
            "Validation loss improved: -0.0976 → 0.0976. Saving model...\n",
            "=== Training Fold 5/5 ===\n"
          ]
        },
        {
          "name": "stderr",
          "output_type": "stream",
          "text": [
            "training: 100%|██████████| 53/53 [00:16<00:00,  3.13it/s]\n"
          ]
        },
        {
          "name": "stdout",
          "output_type": "stream",
          "text": [
            "Epoch 1/10 | 2.6513 | Val Loss: 1.3378 | Val Acc: 59.29%\n",
            "Validation loss improved: -1.3378 → 1.3378. Saving model...\n"
          ]
        },
        {
          "name": "stderr",
          "output_type": "stream",
          "text": [
            "training: 100%|██████████| 53/53 [00:16<00:00,  3.30it/s]\n"
          ]
        },
        {
          "name": "stdout",
          "output_type": "stream",
          "text": [
            "Epoch 2/10 | 1.0428 | Val Loss: 0.6016 | Val Acc: 81.67%\n",
            "Validation loss improved: -0.6016 → 0.6016. Saving model...\n"
          ]
        },
        {
          "name": "stderr",
          "output_type": "stream",
          "text": [
            "training: 100%|██████████| 53/53 [00:16<00:00,  3.30it/s]\n"
          ]
        },
        {
          "name": "stdout",
          "output_type": "stream",
          "text": [
            "Epoch 3/10 | 0.5535 | Val Loss: 0.3262 | Val Acc: 90.71%\n",
            "Validation loss improved: -0.3262 → 0.3262. Saving model...\n"
          ]
        },
        {
          "name": "stderr",
          "output_type": "stream",
          "text": [
            "training: 100%|██████████| 53/53 [00:16<00:00,  3.24it/s]\n"
          ]
        },
        {
          "name": "stdout",
          "output_type": "stream",
          "text": [
            "Epoch 4/10 | 0.3586 | Val Loss: 0.2476 | Val Acc: 92.38%\n",
            "Validation loss improved: -0.2476 → 0.2476. Saving model...\n"
          ]
        },
        {
          "name": "stderr",
          "output_type": "stream",
          "text": [
            "training: 100%|██████████| 53/53 [00:15<00:00,  3.35it/s]\n"
          ]
        },
        {
          "name": "stdout",
          "output_type": "stream",
          "text": [
            "Epoch 5/10 | 0.2825 | Val Loss: 0.1895 | Val Acc: 94.76%\n",
            "Validation loss improved: -0.1895 → 0.1895. Saving model...\n"
          ]
        },
        {
          "name": "stderr",
          "output_type": "stream",
          "text": [
            "training: 100%|██████████| 53/53 [00:16<00:00,  3.18it/s]\n"
          ]
        },
        {
          "name": "stdout",
          "output_type": "stream",
          "text": [
            "Epoch 6/10 | 0.2408 | Val Loss: 0.1735 | Val Acc: 94.76%\n",
            "Validation loss improved: -0.1735 → 0.1735. Saving model...\n"
          ]
        },
        {
          "name": "stderr",
          "output_type": "stream",
          "text": [
            "training: 100%|██████████| 53/53 [00:15<00:00,  3.32it/s]\n"
          ]
        },
        {
          "name": "stdout",
          "output_type": "stream",
          "text": [
            "Epoch 7/10 | 0.1537 | Val Loss: 0.1410 | Val Acc: 94.76%\n",
            "Validation loss improved: -0.1410 → 0.1410. Saving model...\n"
          ]
        },
        {
          "name": "stderr",
          "output_type": "stream",
          "text": [
            "training: 100%|██████████| 53/53 [00:15<00:00,  3.34it/s]\n"
          ]
        },
        {
          "name": "stdout",
          "output_type": "stream",
          "text": [
            "Epoch 8/10 | 0.1550 | Val Loss: 0.1189 | Val Acc: 95.95%\n",
            "Validation loss improved: -0.1189 → 0.1189. Saving model...\n"
          ]
        },
        {
          "name": "stderr",
          "output_type": "stream",
          "text": [
            "training: 100%|██████████| 53/53 [00:16<00:00,  3.19it/s]\n"
          ]
        },
        {
          "name": "stdout",
          "output_type": "stream",
          "text": [
            "Epoch 9/10 | 0.1406 | Val Loss: 0.1057 | Val Acc: 95.71%\n",
            "Validation loss improved: -0.1057 → 0.1057. Saving model...\n"
          ]
        },
        {
          "name": "stderr",
          "output_type": "stream",
          "text": [
            "training: 100%|██████████| 53/53 [00:16<00:00,  3.29it/s]\n"
          ]
        },
        {
          "name": "stdout",
          "output_type": "stream",
          "text": [
            "Epoch 10/10 | 0.1005 | Val Loss: 0.1093 | Val Acc: 96.43%\n",
            "=== Results of Scratch ===\n",
            "MeanTrainLoss: [3.3369013  3.14549317 3.06124382 2.93520006 2.85246263 2.74799301\n",
            " 2.63761669 2.55893764 2.5054064  2.45226165]\n",
            "MeanValLoss: [3.27544722 3.04403025 2.86875943 2.85442756 2.64112018 2.6370159\n",
            " 2.59047953 2.47499896 2.25577445 2.32067467]\n",
            "MeanValAcc: [0.08142857 0.13238095 0.18333333 0.2047619  0.25238095 0.26619048\n",
            " 0.28857143 0.31238095 0.33714286 0.34238095]\n",
            "=== Results of Fine-tuning ===\n"
          ]
        },
        {
          "data": {
            "image/png": "[encoded data removed]",
            "text/plain": [
              "<Figure size 1200x400 with 2 Axes>"
            ]
          },
          "metadata": {},
          "output_type": "display_data"
        },
        {
          "name": "stdout",
          "output_type": "stream",
          "text": [
            "MeanTrainLoss: {MeanTrainLosses_Finetune}\n",
            "MeanValLoss: {MeanValLosses_Finetune}\n",
            "MeanValAcc: {MeanValAccs_Finetune}\n"
          ]
        },
        {
          "data": {
            "image/png": "[encoded data removed]",
            "text/plain": [
              "<Figure size 1200x400 with 2 Axes>"
            ]
          },
          "metadata": {},
          "output_type": "display_data"
        }
      ],
      "source": [
        "# train the existing architecture using at least 2 different strategies\n",
        "# Scratch Training\n",
        "def EfficientNetTraining(Foldloaders, NumEpochs):\n",
        "  \"\"\"Train EfficientNet use two strategies: scratch training and fine-tuning\"\"\"\n",
        "  AllScratchResults = {'TrainLosses': [], 'ValLosses': [], 'ValAccs': []}\n",
        "  AllFinetuneResults = {'TrainLosses': [], 'ValLosses': [], 'ValAccs': []}\n",
        "  ClassCounts = np.bincount(Labelarray)\n",
        "  ClassWeights = 1. / torch.tensor(ClassCounts+1e-6, dtype=torch.float).to(device)\n",
        "  Criterion = nn.CrossEntropyLoss(weight=ClassWeights)\n",
        "\n",
        "  \"\"\"Create EfficientNet model for scratch Training\"\"\"\n",
        "  print(\"=== Training EfficientNet from Scratch ===\")\n",
        "  for Fold, FoldData in enumerate(Foldloaders):\n",
        "    print(f\"=== Training Fold {Fold+1}/{len(Foldloaders)} ===\")\n",
        "    Model, ParaGps = EfficientNet(pretrained=False, Numclasses=21)\n",
        "    Model = Model.to(device)\n",
        "\n",
        "    Optimizer = AdamW(\n",
        "      params=ParaGps,\n",
        "      lr=3e-4,\n",
        "      weight_decay=0.05,\n",
        "      betas=(0.9, 0.999)\n",
        "    )\n",
        "\n",
        "    Scheduler = CosineAnnealingWarmRestarts(\n",
        "      Optimizer,\n",
        "      T_0=20,\n",
        "      T_mult=2\n",
        "    )\n",
        "\n",
        "    Scaler = torch.amp.GradScaler(enabled=(device.type == 'cuda'))\n",
        "\n",
        "    EarlyStopper = EarlyStopping(Patience=7)\n",
        "\n",
        "    TrainLosses, ValLosses, ValAccs = TrainModel(\n",
        "      Model,\n",
        "      FoldData['Train'],\n",
        "      FoldData['Test'],\n",
        "      Optimizer,\n",
        "      Criterion,\n",
        "      Scheduler,\n",
        "      EarlyStopper,\n",
        "      NumEpochs\n",
        "    )\n",
        "\n",
        "    AllScratchResults['TrainLosses'].append(TrainLosses)\n",
        "    AllScratchResults['ValLosses'].append(ValLosses)\n",
        "    AllScratchResults['ValAccs'].append(ValAccs)\n",
        "\n",
        "    torch.save(Model.state_dict(), f'EfficientNet_Scratch_Fold{Fold+1}_Best.pth')\n",
        "\n",
        "  # Strategy 2: Fine-tuning (pretrained=True)\n",
        "  print(\"=== Fine-tuning EfficientNet ===\")\n",
        "  for Fold, FoldData in enumerate(Foldloaders):\n",
        "    print(f\"=== Training Fold {Fold+1}/{len(Foldloaders)} ===\")\n",
        "    Model, ParaGps = EfficientNet(pretrained=True, Numclasses=21)\n",
        "    Model = Model.to(device)\n",
        "\n",
        "    Optimizer = AdamW(\n",
        "      params=ParaGps,\n",
        "      lr=1e-4,  # Lower learning rate for fine-tuning\n",
        "      weight_decay=0.05,\n",
        "      betas=(0.9, 0.999)\n",
        "    )\n",
        "\n",
        "    Scheduler = CosineAnnealingWarmRestarts(\n",
        "      Optimizer,\n",
        "      T_0=20,\n",
        "      T_mult=2\n",
        "    )\n",
        "\n",
        "    EarlyStopper = EarlyStopping(Patience=7)\n",
        "    TrainLosses, ValLosses, ValAccs = TrainModel(\n",
        "      Model,\n",
        "      FoldData['Train'],\n",
        "      FoldData['Test'],\n",
        "      Optimizer,\n",
        "      Criterion,\n",
        "      Scheduler,\n",
        "      EarlyStopper,\n",
        "      NumEpochs\n",
        "    )\n",
        "\n",
        "    AllFinetuneResults['TrainLosses'].append(TrainLosses)\n",
        "    AllFinetuneResults['ValLosses'].append(ValLosses)\n",
        "    AllFinetuneResults['ValAccs'].append(ValAccs)\n",
        "\n",
        "    torch.save(Model.state_dict(), f'EfficientNet_Finetune_Fold{Fold+1}_Best.pth')\n",
        "\n",
        "  def ComputeMeanMetrics(AllResults):\n",
        "    MeanTrainLosses = np.mean(AllResults['TrainLosses'], axis=0)\n",
        "    MeanValLosses = np.mean(AllResults['ValLosses'], axis=0)\n",
        "    MeanValAccs = np.mean(AllResults['ValAccs'], axis=0)\n",
        "    return MeanTrainLosses, MeanValLosses, MeanValAccs\n",
        "\n",
        "  MeanTrainLosses_Scratch, MeanValLosses_Scratch, MeanValAccs_Scratch = ComputeMeanMetrics(AllScratchResults)\n",
        "  MeanTrainLosses_Finetune, MeanValLosses_Finetune, MeanValAccs_Finetune = ComputeMeanMetrics(AllFinetuneResults)\n",
        "\n",
        "  def Plot(MeanTrainLosses, MeanValLosses, MeanValAccs, Title):\n",
        "    plt.figure(figsize=(12, 4))\n",
        "    plt.subplot(1, 2, 1)\n",
        "    plt.plot(MeanTrainLosses, label='Avg Train Loss', color='blue')\n",
        "    plt.plot(MeanValLosses, label='Avg Val Loss', color='red')\n",
        "    plt.xlabel('Epoch')\n",
        "    plt.ylabel('Loss')\n",
        "    plt.title(f'{Title} - Avg Loss')\n",
        "    plt.legend()\n",
        "    plt.grid(True)\n",
        "\n",
        "    plt.subplot(1, 2, 2)\n",
        "    plt.plot(MeanValAccs, label='Avg Val Accuracy', color='green')\n",
        "    plt.xlabel('Epoch')\n",
        "    plt.ylabel('Accuracy')\n",
        "    plt.title(f'{Title} - Avg Accuracy')\n",
        "    plt.legend()\n",
        "    plt.grid(True)\n",
        "\n",
        "    plt.tight_layout()\n",
        "    plt.show()\n",
        "\n",
        "  print(\"=== Results of Scratch ===\")\n",
        "  Plot(MeanTrainLosses_Scratch, MeanValLosses_Scratch, MeanValAccs_Scratch, 'Scratch Training')\n",
        "  print(\"=== Results of Fine-tuning ===\")\n",
        "  Plot(MeanTrainLosses_Finetune, MeanValLosses_Finetune, MeanValAccs_Finetune, 'Fine-tuning')\n",
        "\n",
        "  return {\n",
        "    'Scratch': AllScratchResults,\n",
        "    'Finetune': AllFinetuneResults\n",
        "  }\n",
        "\n",
        "# Execute the training\n",
        "NumEpochs = 10\n",
        "Results = EfficientNetTraining(Foldloaders, NumEpochs)"
      ]
    },
    {
      "cell_type": "markdown",
      "metadata": {
        "id": "Qt6Ntbx4yzhF"
      },
      "source": [
        "---\n",
        "\n",
        "# 3. **Evaluate models**\n",
        "\n",
        "1.\tevaluate the model (the best one you obtained in the above stage) on the testing dataset.\n"
      ]
    },
    {
      "cell_type": "code",
      "execution_count": 18,
      "metadata": {
        "colab": {
          "base_uri": "https://localhost:8080/",
          "height": 898
        },
        "id": "S4ercQOxy2Qk",
        "outputId": "c06e2df8-8c50-43e2-ebb0-98490d7dc0ca"
      },
      "outputs": [
        {
          "name": "stdout",
          "output_type": "stream",
          "text": [
            "Test Loss: 0.0724\n",
            "Test Accuracy: 98.10%\n",
            "Precision: 0.9844\n",
            "Recall: 0.9810\n",
            "F1-Score: 0.9813\n"
          ]
        },
        {
          "data": {
            "image/png": "[encoded data removed]",
            "text/plain": [
              "<Figure size 1000x800 with 2 Axes>"
            ]
          },
          "metadata": {},
          "output_type": "display_data"
        }
      ],
      "source": [
        "import numpy as np\n",
        "import torch\n",
        "from torch.utils.data import DataLoader\n",
        "from sklearn.metrics import confusion_matrix, precision_score, recall_score, f1_score\n",
        "import matplotlib.pyplot as plt\n",
        "import seaborn as sns\n",
        "\n",
        "# Load the best fine-tuned model (assuming Fold 1 as an example; adjust as needed)\n",
        "best_fold = 1  # Replace with the fold yielding the best validation accuracy\n",
        "Model, ParaGps = EfficientNet(pretrained=True, Numclasses=21)\n",
        "Model = Model.to(device)\n",
        "Model.load_state_dict(torch.load(f'EfficientNet_Finetune_Fold{best_fold}_Best.pth'))\n",
        "Model.eval()\n",
        "\n",
        "# Define the loss criterion (same as training)\n",
        "ClassCounts = np.bincount(Labelarray)\n",
        "ClassWeights = 1. / torch.tensor(ClassCounts + 1e-6, dtype=torch.float).to(device)\n",
        "Criterion = nn.CrossEntropyLoss(weight=ClassWeights)\n",
        "\n",
        "# Evaluate on the test set for the best fold\n",
        "def evaluate_best_model(Model, TestDataLoader, Criterion):\n",
        "    Model.eval()\n",
        "    total_loss, correct = 0, 0\n",
        "    all_preds, all_labels = [], []\n",
        "\n",
        "    with torch.no_grad():\n",
        "        for inputs, labels in TestDataLoader:\n",
        "            inputs, labels = inputs.to(device), labels.to(device)\n",
        "            outputs = Model(inputs)\n",
        "            loss = Criterion(outputs, labels)\n",
        "            total_loss += loss.item()\n",
        "            preds = outputs.argmax(1)\n",
        "            correct += (preds == labels).sum().item()\n",
        "            all_preds.extend(preds.cpu().numpy())\n",
        "            all_labels.extend(labels.cpu().numpy())\n",
        "\n",
        "    avg_loss = total_loss / len(TestDataLoader)\n",
        "    accuracy = correct / len(TestDataLoader.dataset)\n",
        "    return avg_loss, accuracy, all_preds, all_labels\n",
        "\n",
        "# Get the test loader for the best fold\n",
        "TestLoader = Foldloaders[best_fold - 1]['Test']\n",
        "\n",
        "# Run evaluation\n",
        "test_loss, test_accuracy, test_preds, test_labels = evaluate_best_model(Model, TestLoader, Criterion)\n",
        "\n",
        "# Compute additional metrics\n",
        "precision = precision_score(test_labels, test_preds, average='weighted')\n",
        "recall = recall_score(test_labels, test_preds, average='weighted')\n",
        "f1 = f1_score(test_labels, test_preds, average='weighted')\n",
        "\n",
        "# Print results\n",
        "print(f\"Test Loss: {test_loss:.4f}\")\n",
        "print(f\"Test Accuracy: {test_accuracy:.2%}\")\n",
        "print(f\"Precision: {precision:.4f}\")\n",
        "print(f\"Recall: {recall:.4f}\")\n",
        "print(f\"F1-Score: {f1:.4f}\")\n",
        "\n",
        "# Compute and plot confusion matrix\n",
        "cm = confusion_matrix(test_labels, test_preds)\n",
        "plt.figure(figsize=(10, 8))\n",
        "sns.heatmap(cm, annot=True, fmt='d', cmap='Blues', xticklabels=Dataset.classes, yticklabels=Dataset.classes)\n",
        "plt.xlabel('Predicted')\n",
        "plt.ylabel('True')\n",
        "plt.title(f'Confusion Matrix - Fine-tuned EfficientNet-B0 (Fold {best_fold})')\n",
        "plt.xticks(rotation=45, ha='right')\n",
        "plt.yticks(rotation=0)\n",
        "plt.tight_layout()\n",
        "plt.show()"
      ]
    }
  ],
  "metadata": {
    "accelerator": "GPU",
    "colab": {
      "gpuType": "T4",
      "provenance": []
    },
    "kernelspec": {
      "display_name": "Python 3",
      "name": "python3"
    },
    "language_info": {
      "codemirror_mode": {
        "name": "ipython",
        "version": 3
      },
      "file_extension": ".py",
      "mimetype": "text/x-python",
      "name": "python",
      "nbconvert_exporter": "python",
      "pygments_lexer": "ipython3",
      "version": "3.13.0"
    }
  },
  "nbformat": 4,
  "nbformat_minor": 0
}
